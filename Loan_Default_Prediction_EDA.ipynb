{
  "cells": [
    {
      "cell_type": "markdown",
      "metadata": {
        "id": "view-in-github",
        "colab_type": "text"
      },
      "source": [
        "<a href=\"https://colab.research.google.com/github/bindukovvada/Loan_Default_Prediction_Assignment/blob/main/Loan_Default_Prediction_EDA.ipynb\" target=\"_parent\"><img src=\"https://colab.research.google.com/assets/colab-badge.svg\" alt=\"Open In Colab\"/></a>"
      ]
    },
    {
      "cell_type": "markdown",
      "source": [
        "#Problem Statement :"
      ],
      "metadata": {
        "id": "wDy128TtB8ts"
      }
    },
    {
      "cell_type": "markdown",
      "source": [
        "A person’s creditworthiness is often associated (conversely) with the likelihood they may default on loans. \n",
        "\n",
        "We’re giving you anonymized data on about 1000 loan applications, along with a certain set of attributes about the applicant itself, and whether they were considered high risk.\n",
        "\n",
        "0 = Low credit risk i.e high chance of paying back the loan amount\n",
        "\n",
        "1 = High credit risk i.e low chance of paying back the loan amount"
      ],
      "metadata": {
        "id": "LMFRrvJmB615"
      }
    },
    {
      "cell_type": "markdown",
      "source": [
        "#Data Description \n",
        "\n",
        "The dataset has two files:\n",
        "\n",
        "1. `applicant.csv`: This file contains personal data about the (primary) applicant\n",
        "- Unique ID: `applicant_id` (string)\n",
        "- Other fields:\n",
        "    - Primary_applicant_age_in_years (numeric)\n",
        "    - Gender (string)\n",
        "    - Marital_status (string)\n",
        "    - Number_of_dependents (numeric)\n",
        "    - Housing (string)\n",
        "    - Years_at_current_residence (numeric)\n",
        "    - Employment_status (string)\n",
        "    - Has_been_employed_for_at_least (string)\n",
        "    - Has_been_employed_for_at_most (string)\n",
        "    - Telephone (string)\n",
        "    - Foreign_worker (numeric)\n",
        "    - Savings_account_balance (string)\n",
        "    - Balance_in_existing_bank_account_(lower_limit_of_bucket) (string)\n",
        "    - Balance_in_existing_bank_account_(upper_limit_of_bucket) (string)"
      ],
      "metadata": {
        "id": "hF_0FifLCDlM"
      }
    },
    {
      "cell_type": "markdown",
      "source": [
        "2. `loan.csv`: This file contains data more specific to the loan application\n",
        "- Target: `high_risk_application` (numeric)\n",
        "- Other fields:\n",
        "    - applicant_id (string)\n",
        "    - Months_loan_taken_for (numeric)\n",
        "    - Purpose (string)\n",
        "    - Principal_loan_amount (numeric)\n",
        "    - EMI_rate_in_percentage_of_disposable_income (numeric)\n",
        "    - Property (string)\n",
        "    - Has_coapplicant (numeric)\n",
        "    - Has_guarantor (numeric)\n",
        "    - Other_EMI_plans (string)\n",
        "    - Number_of_existing_loans_at_this_bank (numeric)\n",
        "    - Loan_history (string)"
      ],
      "metadata": {
        "id": "TuzRRL-QCM0Y"
      }
    },
    {
      "cell_type": "markdown",
      "source": [
        "##Goal of the Project \n",
        "\n",
        "The purpose of this project is to build a machine learning model that can predict whether or not a person is a high risk applicant based on the loan and personal information provided."
      ],
      "metadata": {
        "id": "FQL47o6SCTDA"
      }
    },
    {
      "cell_type": "markdown",
      "metadata": {
        "id": "CM3m-oTukiyZ"
      },
      "source": [
        "#Import all necessary libraries"
      ]
    },
    {
      "cell_type": "markdown",
      "metadata": {
        "id": "rGW4329Ibt24"
      },
      "source": []
    },
    {
      "cell_type": "code",
      "execution_count": null,
      "metadata": {
        "colab": {
          "base_uri": "https://localhost:8080/"
        },
        "id": "ueeRQvqWbvbo",
        "outputId": "fece3a32-1447-42da-c7af-af85ddbe919c"
      },
      "outputs": [
        {
          "output_type": "stream",
          "name": "stdout",
          "text": [
            "Looking in indexes: https://pypi.org/simple, https://us-python.pkg.dev/colab-wheels/public/simple/\n",
            "Requirement already satisfied: pandas-profiling==2.7.1 in /usr/local/lib/python3.7/dist-packages (2.7.1)\n",
            "Requirement already satisfied: joblib in /usr/local/lib/python3.7/dist-packages (from pandas-profiling==2.7.1) (1.2.0)\n",
            "Requirement already satisfied: pandas!=1.0.0,!=1.0.1,!=1.0.2,>=0.25.3 in /usr/local/lib/python3.7/dist-packages (from pandas-profiling==2.7.1) (1.3.5)\n",
            "Requirement already satisfied: tqdm>=4.43.0 in /usr/local/lib/python3.7/dist-packages (from pandas-profiling==2.7.1) (4.64.1)\n",
            "Requirement already satisfied: scipy>=1.4.1 in /usr/local/lib/python3.7/dist-packages (from pandas-profiling==2.7.1) (1.7.3)\n",
            "Requirement already satisfied: confuse>=1.0.0 in /usr/local/lib/python3.7/dist-packages (from pandas-profiling==2.7.1) (2.0.0)\n",
            "Requirement already satisfied: matplotlib>=3.2.0 in /usr/local/lib/python3.7/dist-packages (from pandas-profiling==2.7.1) (3.2.2)\n",
            "Requirement already satisfied: jinja2>=2.11.1 in /usr/local/lib/python3.7/dist-packages (from pandas-profiling==2.7.1) (2.11.3)\n",
            "Requirement already satisfied: missingno>=0.4.2 in /usr/local/lib/python3.7/dist-packages (from pandas-profiling==2.7.1) (0.5.1)\n",
            "Requirement already satisfied: tangled-up-in-unicode>=0.0.4 in /usr/local/lib/python3.7/dist-packages (from pandas-profiling==2.7.1) (0.2.0)\n",
            "Requirement already satisfied: numpy>=1.16.0 in /usr/local/lib/python3.7/dist-packages (from pandas-profiling==2.7.1) (1.21.6)\n",
            "Requirement already satisfied: requests>=2.23.0 in /usr/local/lib/python3.7/dist-packages (from pandas-profiling==2.7.1) (2.23.0)\n",
            "Requirement already satisfied: phik>=0.9.10 in /usr/local/lib/python3.7/dist-packages (from pandas-profiling==2.7.1) (0.12.2)\n",
            "Requirement already satisfied: astropy>=4.0 in /usr/local/lib/python3.7/dist-packages (from pandas-profiling==2.7.1) (4.3.1)\n",
            "Requirement already satisfied: visions[type_image_path]==0.4.1 in /usr/local/lib/python3.7/dist-packages (from pandas-profiling==2.7.1) (0.4.1)\n",
            "Requirement already satisfied: htmlmin>=0.1.12 in /usr/local/lib/python3.7/dist-packages (from pandas-profiling==2.7.1) (0.1.12)\n",
            "Requirement already satisfied: ipywidgets>=7.5.1 in /usr/local/lib/python3.7/dist-packages (from pandas-profiling==2.7.1) (7.7.1)\n",
            "Requirement already satisfied: networkx>=2.4 in /usr/local/lib/python3.7/dist-packages (from visions[type_image_path]==0.4.1->pandas-profiling==2.7.1) (2.6.3)\n",
            "Requirement already satisfied: attrs>=19.3.0 in /usr/local/lib/python3.7/dist-packages (from visions[type_image_path]==0.4.1->pandas-profiling==2.7.1) (22.1.0)\n",
            "Requirement already satisfied: imagehash in /usr/local/lib/python3.7/dist-packages (from visions[type_image_path]==0.4.1->pandas-profiling==2.7.1) (4.3.1)\n",
            "Requirement already satisfied: Pillow in /usr/local/lib/python3.7/dist-packages (from visions[type_image_path]==0.4.1->pandas-profiling==2.7.1) (7.1.2)\n",
            "Requirement already satisfied: importlib-metadata in /usr/local/lib/python3.7/dist-packages (from astropy>=4.0->pandas-profiling==2.7.1) (4.13.0)\n",
            "Requirement already satisfied: pyerfa>=1.7.3 in /usr/local/lib/python3.7/dist-packages (from astropy>=4.0->pandas-profiling==2.7.1) (2.0.0.1)\n",
            "Requirement already satisfied: pyyaml in /usr/local/lib/python3.7/dist-packages (from confuse>=1.0.0->pandas-profiling==2.7.1) (6.0)\n",
            "Requirement already satisfied: jupyterlab-widgets>=1.0.0 in /usr/local/lib/python3.7/dist-packages (from ipywidgets>=7.5.1->pandas-profiling==2.7.1) (3.0.3)\n",
            "Requirement already satisfied: ipython>=4.0.0 in /usr/local/lib/python3.7/dist-packages (from ipywidgets>=7.5.1->pandas-profiling==2.7.1) (7.9.0)\n",
            "Requirement already satisfied: ipython-genutils~=0.2.0 in /usr/local/lib/python3.7/dist-packages (from ipywidgets>=7.5.1->pandas-profiling==2.7.1) (0.2.0)\n",
            "Requirement already satisfied: traitlets>=4.3.1 in /usr/local/lib/python3.7/dist-packages (from ipywidgets>=7.5.1->pandas-profiling==2.7.1) (5.1.1)\n",
            "Requirement already satisfied: ipykernel>=4.5.1 in /usr/local/lib/python3.7/dist-packages (from ipywidgets>=7.5.1->pandas-profiling==2.7.1) (5.3.4)\n",
            "Requirement already satisfied: widgetsnbextension~=3.6.0 in /usr/local/lib/python3.7/dist-packages (from ipywidgets>=7.5.1->pandas-profiling==2.7.1) (3.6.1)\n",
            "Requirement already satisfied: jupyter-client in /usr/local/lib/python3.7/dist-packages (from ipykernel>=4.5.1->ipywidgets>=7.5.1->pandas-profiling==2.7.1) (6.1.12)\n",
            "Requirement already satisfied: tornado>=4.2 in /usr/local/lib/python3.7/dist-packages (from ipykernel>=4.5.1->ipywidgets>=7.5.1->pandas-profiling==2.7.1) (5.1.1)\n",
            "Requirement already satisfied: decorator in /usr/local/lib/python3.7/dist-packages (from ipython>=4.0.0->ipywidgets>=7.5.1->pandas-profiling==2.7.1) (4.4.2)\n",
            "Requirement already satisfied: backcall in /usr/local/lib/python3.7/dist-packages (from ipython>=4.0.0->ipywidgets>=7.5.1->pandas-profiling==2.7.1) (0.2.0)\n",
            "Requirement already satisfied: pygments in /usr/local/lib/python3.7/dist-packages (from ipython>=4.0.0->ipywidgets>=7.5.1->pandas-profiling==2.7.1) (2.6.1)\n",
            "Requirement already satisfied: pickleshare in /usr/local/lib/python3.7/dist-packages (from ipython>=4.0.0->ipywidgets>=7.5.1->pandas-profiling==2.7.1) (0.7.5)\n",
            "Requirement already satisfied: prompt-toolkit<2.1.0,>=2.0.0 in /usr/local/lib/python3.7/dist-packages (from ipython>=4.0.0->ipywidgets>=7.5.1->pandas-profiling==2.7.1) (2.0.10)\n",
            "Requirement already satisfied: jedi>=0.10 in /usr/local/lib/python3.7/dist-packages (from ipython>=4.0.0->ipywidgets>=7.5.1->pandas-profiling==2.7.1) (0.18.1)\n",
            "Requirement already satisfied: pexpect in /usr/local/lib/python3.7/dist-packages (from ipython>=4.0.0->ipywidgets>=7.5.1->pandas-profiling==2.7.1) (4.8.0)\n",
            "Requirement already satisfied: setuptools>=18.5 in /usr/local/lib/python3.7/dist-packages (from ipython>=4.0.0->ipywidgets>=7.5.1->pandas-profiling==2.7.1) (57.4.0)\n",
            "Requirement already satisfied: parso<0.9.0,>=0.8.0 in /usr/local/lib/python3.7/dist-packages (from jedi>=0.10->ipython>=4.0.0->ipywidgets>=7.5.1->pandas-profiling==2.7.1) (0.8.3)\n",
            "Requirement already satisfied: MarkupSafe>=0.23 in /usr/local/lib/python3.7/dist-packages (from jinja2>=2.11.1->pandas-profiling==2.7.1) (2.0.1)\n",
            "Requirement already satisfied: cycler>=0.10 in /usr/local/lib/python3.7/dist-packages (from matplotlib>=3.2.0->pandas-profiling==2.7.1) (0.11.0)\n",
            "Requirement already satisfied: python-dateutil>=2.1 in /usr/local/lib/python3.7/dist-packages (from matplotlib>=3.2.0->pandas-profiling==2.7.1) (2.8.2)\n",
            "Requirement already satisfied: pyparsing!=2.0.4,!=2.1.2,!=2.1.6,>=2.0.1 in /usr/local/lib/python3.7/dist-packages (from matplotlib>=3.2.0->pandas-profiling==2.7.1) (3.0.9)\n",
            "Requirement already satisfied: kiwisolver>=1.0.1 in /usr/local/lib/python3.7/dist-packages (from matplotlib>=3.2.0->pandas-profiling==2.7.1) (1.4.4)\n",
            "Requirement already satisfied: typing-extensions in /usr/local/lib/python3.7/dist-packages (from kiwisolver>=1.0.1->matplotlib>=3.2.0->pandas-profiling==2.7.1) (4.1.1)\n",
            "Requirement already satisfied: seaborn in /usr/local/lib/python3.7/dist-packages (from missingno>=0.4.2->pandas-profiling==2.7.1) (0.11.2)\n",
            "Requirement already satisfied: pytz>=2017.3 in /usr/local/lib/python3.7/dist-packages (from pandas!=1.0.0,!=1.0.1,!=1.0.2,>=0.25.3->pandas-profiling==2.7.1) (2022.5)\n",
            "Requirement already satisfied: wcwidth in /usr/local/lib/python3.7/dist-packages (from prompt-toolkit<2.1.0,>=2.0.0->ipython>=4.0.0->ipywidgets>=7.5.1->pandas-profiling==2.7.1) (0.2.5)\n",
            "Requirement already satisfied: six>=1.9.0 in /usr/local/lib/python3.7/dist-packages (from prompt-toolkit<2.1.0,>=2.0.0->ipython>=4.0.0->ipywidgets>=7.5.1->pandas-profiling==2.7.1) (1.15.0)\n",
            "Requirement already satisfied: chardet<4,>=3.0.2 in /usr/local/lib/python3.7/dist-packages (from requests>=2.23.0->pandas-profiling==2.7.1) (3.0.4)\n",
            "Requirement already satisfied: idna<3,>=2.5 in /usr/local/lib/python3.7/dist-packages (from requests>=2.23.0->pandas-profiling==2.7.1) (2.10)\n",
            "Requirement already satisfied: urllib3!=1.25.0,!=1.25.1,<1.26,>=1.21.1 in /usr/local/lib/python3.7/dist-packages (from requests>=2.23.0->pandas-profiling==2.7.1) (1.24.3)\n",
            "Requirement already satisfied: certifi>=2017.4.17 in /usr/local/lib/python3.7/dist-packages (from requests>=2.23.0->pandas-profiling==2.7.1) (2022.9.24)\n",
            "Requirement already satisfied: notebook>=4.4.1 in /usr/local/lib/python3.7/dist-packages (from widgetsnbextension~=3.6.0->ipywidgets>=7.5.1->pandas-profiling==2.7.1) (5.5.0)\n",
            "Requirement already satisfied: jupyter-core>=4.4.0 in /usr/local/lib/python3.7/dist-packages (from notebook>=4.4.1->widgetsnbextension~=3.6.0->ipywidgets>=7.5.1->pandas-profiling==2.7.1) (4.11.2)\n",
            "Requirement already satisfied: pyzmq>=17 in /usr/local/lib/python3.7/dist-packages (from notebook>=4.4.1->widgetsnbextension~=3.6.0->ipywidgets>=7.5.1->pandas-profiling==2.7.1) (23.2.1)\n",
            "Requirement already satisfied: nbformat in /usr/local/lib/python3.7/dist-packages (from notebook>=4.4.1->widgetsnbextension~=3.6.0->ipywidgets>=7.5.1->pandas-profiling==2.7.1) (5.7.0)\n",
            "Requirement already satisfied: nbconvert in /usr/local/lib/python3.7/dist-packages (from notebook>=4.4.1->widgetsnbextension~=3.6.0->ipywidgets>=7.5.1->pandas-profiling==2.7.1) (5.6.1)\n",
            "Requirement already satisfied: terminado>=0.8.1 in /usr/local/lib/python3.7/dist-packages (from notebook>=4.4.1->widgetsnbextension~=3.6.0->ipywidgets>=7.5.1->pandas-profiling==2.7.1) (0.13.3)\n",
            "Requirement already satisfied: Send2Trash in /usr/local/lib/python3.7/dist-packages (from notebook>=4.4.1->widgetsnbextension~=3.6.0->ipywidgets>=7.5.1->pandas-profiling==2.7.1) (1.8.0)\n",
            "Requirement already satisfied: ptyprocess in /usr/local/lib/python3.7/dist-packages (from terminado>=0.8.1->notebook>=4.4.1->widgetsnbextension~=3.6.0->ipywidgets>=7.5.1->pandas-profiling==2.7.1) (0.7.0)\n",
            "Requirement already satisfied: PyWavelets in /usr/local/lib/python3.7/dist-packages (from imagehash->visions[type_image_path]==0.4.1->pandas-profiling==2.7.1) (1.3.0)\n",
            "Requirement already satisfied: zipp>=0.5 in /usr/local/lib/python3.7/dist-packages (from importlib-metadata->astropy>=4.0->pandas-profiling==2.7.1) (3.10.0)\n",
            "Requirement already satisfied: pandocfilters>=1.4.1 in /usr/local/lib/python3.7/dist-packages (from nbconvert->notebook>=4.4.1->widgetsnbextension~=3.6.0->ipywidgets>=7.5.1->pandas-profiling==2.7.1) (1.5.0)\n",
            "Requirement already satisfied: mistune<2,>=0.8.1 in /usr/local/lib/python3.7/dist-packages (from nbconvert->notebook>=4.4.1->widgetsnbextension~=3.6.0->ipywidgets>=7.5.1->pandas-profiling==2.7.1) (0.8.4)\n",
            "Requirement already satisfied: entrypoints>=0.2.2 in /usr/local/lib/python3.7/dist-packages (from nbconvert->notebook>=4.4.1->widgetsnbextension~=3.6.0->ipywidgets>=7.5.1->pandas-profiling==2.7.1) (0.4)\n",
            "Requirement already satisfied: testpath in /usr/local/lib/python3.7/dist-packages (from nbconvert->notebook>=4.4.1->widgetsnbextension~=3.6.0->ipywidgets>=7.5.1->pandas-profiling==2.7.1) (0.6.0)\n",
            "Requirement already satisfied: bleach in /usr/local/lib/python3.7/dist-packages (from nbconvert->notebook>=4.4.1->widgetsnbextension~=3.6.0->ipywidgets>=7.5.1->pandas-profiling==2.7.1) (5.0.1)\n",
            "Requirement already satisfied: defusedxml in /usr/local/lib/python3.7/dist-packages (from nbconvert->notebook>=4.4.1->widgetsnbextension~=3.6.0->ipywidgets>=7.5.1->pandas-profiling==2.7.1) (0.7.1)\n",
            "Requirement already satisfied: jsonschema>=2.6 in /usr/local/lib/python3.7/dist-packages (from nbformat->notebook>=4.4.1->widgetsnbextension~=3.6.0->ipywidgets>=7.5.1->pandas-profiling==2.7.1) (4.3.3)\n",
            "Requirement already satisfied: fastjsonschema in /usr/local/lib/python3.7/dist-packages (from nbformat->notebook>=4.4.1->widgetsnbextension~=3.6.0->ipywidgets>=7.5.1->pandas-profiling==2.7.1) (2.16.2)\n",
            "Requirement already satisfied: pyrsistent!=0.17.0,!=0.17.1,!=0.17.2,>=0.14.0 in /usr/local/lib/python3.7/dist-packages (from jsonschema>=2.6->nbformat->notebook>=4.4.1->widgetsnbextension~=3.6.0->ipywidgets>=7.5.1->pandas-profiling==2.7.1) (0.18.1)\n",
            "Requirement already satisfied: importlib-resources>=1.4.0 in /usr/local/lib/python3.7/dist-packages (from jsonschema>=2.6->nbformat->notebook>=4.4.1->widgetsnbextension~=3.6.0->ipywidgets>=7.5.1->pandas-profiling==2.7.1) (5.10.0)\n",
            "Requirement already satisfied: webencodings in /usr/local/lib/python3.7/dist-packages (from bleach->nbconvert->notebook>=4.4.1->widgetsnbextension~=3.6.0->ipywidgets>=7.5.1->pandas-profiling==2.7.1) (0.5.1)\n"
          ]
        }
      ],
      "source": [
        "#Installing package\n",
        "!pip install pandas-profiling==2.7.1"
      ]
    },
    {
      "cell_type": "code",
      "execution_count": null,
      "metadata": {
        "colab": {
          "base_uri": "https://localhost:8080/"
        },
        "id": "Xw3-aPMibzG2",
        "outputId": "93f6be15-1167-425d-89dc-55f564b06a00"
      },
      "outputs": [
        {
          "output_type": "stream",
          "name": "stdout",
          "text": [
            "Looking in indexes: https://pypi.org/simple, https://us-python.pkg.dev/colab-wheels/public/simple/\n",
            "Requirement already satisfied: scikit-optimize in /usr/local/lib/python3.7/dist-packages (0.9.0)\n",
            "Requirement already satisfied: joblib>=0.11 in /usr/local/lib/python3.7/dist-packages (from scikit-optimize) (1.2.0)\n",
            "Requirement already satisfied: scipy>=0.19.1 in /usr/local/lib/python3.7/dist-packages (from scikit-optimize) (1.7.3)\n",
            "Requirement already satisfied: pyaml>=16.9 in /usr/local/lib/python3.7/dist-packages (from scikit-optimize) (21.10.1)\n",
            "Requirement already satisfied: scikit-learn>=0.20.0 in /usr/local/lib/python3.7/dist-packages (from scikit-optimize) (1.0.2)\n",
            "Requirement already satisfied: numpy>=1.13.3 in /usr/local/lib/python3.7/dist-packages (from scikit-optimize) (1.21.6)\n",
            "Requirement already satisfied: PyYAML in /usr/local/lib/python3.7/dist-packages (from pyaml>=16.9->scikit-optimize) (6.0)\n",
            "Requirement already satisfied: threadpoolctl>=2.0.0 in /usr/local/lib/python3.7/dist-packages (from scikit-learn>=0.20.0->scikit-optimize) (3.1.0)\n"
          ]
        }
      ],
      "source": [
        "pip install scikit-optimize "
      ]
    },
    {
      "cell_type": "code",
      "execution_count": null,
      "metadata": {
        "id": "mIITH45ENMTm"
      },
      "outputs": [],
      "source": [
        "import pandas as pd\n",
        "import numpy as np\n",
        "import matplotlib.pyplot as plt\n",
        "%matplotlib inline\n",
        "import seaborn as sns\n"
      ]
    },
    {
      "cell_type": "markdown",
      "metadata": {
        "id": "DbME8kcKvDw6"
      },
      "source": [
        "#Load the dataset "
      ]
    },
    {
      "cell_type": "code",
      "execution_count": null,
      "metadata": {
        "colab": {
          "base_uri": "https://localhost:8080/"
        },
        "id": "CjNy-3kqtzDI",
        "outputId": "ae3f1788-d792-427a-f31e-4907b3f5d03a"
      },
      "outputs": [
        {
          "output_type": "stream",
          "name": "stdout",
          "text": [
            "Drive already mounted at /content/drive; to attempt to forcibly remount, call drive.mount(\"/content/drive\", force_remount=True).\n"
          ]
        }
      ],
      "source": [
        "#Connect with drive\n",
        "from google.colab import drive\n",
        "drive.mount('/content/drive')"
      ]
    },
    {
      "cell_type": "code",
      "execution_count": null,
      "metadata": {
        "id": "aB_pgn6wmUn4"
      },
      "outputs": [],
      "source": [
        "df1 = pd.read_csv('/content/drive/MyDrive/applicant.csv')\n",
        "df2 = pd.read_csv('/content/drive/MyDrive/loan.csv')"
      ]
    },
    {
      "cell_type": "markdown",
      "metadata": {
        "id": "3cihn1JCXlm1"
      },
      "source": [
        "#Data Inspection"
      ]
    },
    {
      "cell_type": "code",
      "execution_count": null,
      "metadata": {
        "colab": {
          "base_uri": "https://localhost:8080/",
          "height": 374
        },
        "id": "vwTZn8kFy7x8",
        "outputId": "e7c62b4a-0475-443e-9d9f-623bf0a8a080"
      },
      "outputs": [
        {
          "output_type": "execute_result",
          "data": {
            "text/plain": [
              "   applicant_id  Primary_applicant_age_in_years  Gender  \\\n",
              "0       1469590                              67    male   \n",
              "1       1203873                              22  female   \n",
              "2       1432761                              49    male   \n",
              "3       1207582                              45    male   \n",
              "4       1674436                              53    male   \n",
              "\n",
              "               Marital_status  Number_of_dependents   Housing  \\\n",
              "0                      single                     1       own   \n",
              "1  divorced/separated/married                     1       own   \n",
              "2                      single                     2       own   \n",
              "3                      single                     2  for free   \n",
              "4                      single                     2  for free   \n",
              "\n",
              "   Years_at_current_residence            Employment_status  \\\n",
              "0                           4  skilled employee / official   \n",
              "1                           2  skilled employee / official   \n",
              "2                           3         unskilled - resident   \n",
              "3                           4  skilled employee / official   \n",
              "4                           4  skilled employee / official   \n",
              "\n",
              "  Has_been_employed_for_at_least Has_been_employed_for_at_most  \\\n",
              "0                        7 years                           NaN   \n",
              "1                         1 year                       4 years   \n",
              "2                        4 years                       7 years   \n",
              "3                        4 years                       7 years   \n",
              "4                         1 year                       4 years   \n",
              "\n",
              "                               Telephone  Foreign_worker  \\\n",
              "0  Registered under the applicant's name               1   \n",
              "1                                    NaN               1   \n",
              "2                                    NaN               1   \n",
              "3                                    NaN               1   \n",
              "4                                    NaN               1   \n",
              "\n",
              "  Savings_account_balance  \\\n",
              "0                     NaN   \n",
              "1                     Low   \n",
              "2                     Low   \n",
              "3                     Low   \n",
              "4                     Low   \n",
              "\n",
              "  Balance_in_existing_bank_account_(lower_limit_of_bucket)  \\\n",
              "0                                                NaN         \n",
              "1                                                  0         \n",
              "2                                                NaN         \n",
              "3                                                NaN         \n",
              "4                                                NaN         \n",
              "\n",
              "  Balance_in_existing_bank_account_(upper_limit_of_bucket)  \n",
              "0                                                  0        \n",
              "1                                              2 lac        \n",
              "2                                                NaN        \n",
              "3                                                  0        \n",
              "4                                                  0        "
            ],
            "text/html": [
              "\n",
              "  <div id=\"df-ed8e1c20-e5b2-47c8-954b-2481ca2b81f2\">\n",
              "    <div class=\"colab-df-container\">\n",
              "      <div>\n",
              "<style scoped>\n",
              "    .dataframe tbody tr th:only-of-type {\n",
              "        vertical-align: middle;\n",
              "    }\n",
              "\n",
              "    .dataframe tbody tr th {\n",
              "        vertical-align: top;\n",
              "    }\n",
              "\n",
              "    .dataframe thead th {\n",
              "        text-align: right;\n",
              "    }\n",
              "</style>\n",
              "<table border=\"1\" class=\"dataframe\">\n",
              "  <thead>\n",
              "    <tr style=\"text-align: right;\">\n",
              "      <th></th>\n",
              "      <th>applicant_id</th>\n",
              "      <th>Primary_applicant_age_in_years</th>\n",
              "      <th>Gender</th>\n",
              "      <th>Marital_status</th>\n",
              "      <th>Number_of_dependents</th>\n",
              "      <th>Housing</th>\n",
              "      <th>Years_at_current_residence</th>\n",
              "      <th>Employment_status</th>\n",
              "      <th>Has_been_employed_for_at_least</th>\n",
              "      <th>Has_been_employed_for_at_most</th>\n",
              "      <th>Telephone</th>\n",
              "      <th>Foreign_worker</th>\n",
              "      <th>Savings_account_balance</th>\n",
              "      <th>Balance_in_existing_bank_account_(lower_limit_of_bucket)</th>\n",
              "      <th>Balance_in_existing_bank_account_(upper_limit_of_bucket)</th>\n",
              "    </tr>\n",
              "  </thead>\n",
              "  <tbody>\n",
              "    <tr>\n",
              "      <th>0</th>\n",
              "      <td>1469590</td>\n",
              "      <td>67</td>\n",
              "      <td>male</td>\n",
              "      <td>single</td>\n",
              "      <td>1</td>\n",
              "      <td>own</td>\n",
              "      <td>4</td>\n",
              "      <td>skilled employee / official</td>\n",
              "      <td>7 years</td>\n",
              "      <td>NaN</td>\n",
              "      <td>Registered under the applicant's name</td>\n",
              "      <td>1</td>\n",
              "      <td>NaN</td>\n",
              "      <td>NaN</td>\n",
              "      <td>0</td>\n",
              "    </tr>\n",
              "    <tr>\n",
              "      <th>1</th>\n",
              "      <td>1203873</td>\n",
              "      <td>22</td>\n",
              "      <td>female</td>\n",
              "      <td>divorced/separated/married</td>\n",
              "      <td>1</td>\n",
              "      <td>own</td>\n",
              "      <td>2</td>\n",
              "      <td>skilled employee / official</td>\n",
              "      <td>1 year</td>\n",
              "      <td>4 years</td>\n",
              "      <td>NaN</td>\n",
              "      <td>1</td>\n",
              "      <td>Low</td>\n",
              "      <td>0</td>\n",
              "      <td>2 lac</td>\n",
              "    </tr>\n",
              "    <tr>\n",
              "      <th>2</th>\n",
              "      <td>1432761</td>\n",
              "      <td>49</td>\n",
              "      <td>male</td>\n",
              "      <td>single</td>\n",
              "      <td>2</td>\n",
              "      <td>own</td>\n",
              "      <td>3</td>\n",
              "      <td>unskilled - resident</td>\n",
              "      <td>4 years</td>\n",
              "      <td>7 years</td>\n",
              "      <td>NaN</td>\n",
              "      <td>1</td>\n",
              "      <td>Low</td>\n",
              "      <td>NaN</td>\n",
              "      <td>NaN</td>\n",
              "    </tr>\n",
              "    <tr>\n",
              "      <th>3</th>\n",
              "      <td>1207582</td>\n",
              "      <td>45</td>\n",
              "      <td>male</td>\n",
              "      <td>single</td>\n",
              "      <td>2</td>\n",
              "      <td>for free</td>\n",
              "      <td>4</td>\n",
              "      <td>skilled employee / official</td>\n",
              "      <td>4 years</td>\n",
              "      <td>7 years</td>\n",
              "      <td>NaN</td>\n",
              "      <td>1</td>\n",
              "      <td>Low</td>\n",
              "      <td>NaN</td>\n",
              "      <td>0</td>\n",
              "    </tr>\n",
              "    <tr>\n",
              "      <th>4</th>\n",
              "      <td>1674436</td>\n",
              "      <td>53</td>\n",
              "      <td>male</td>\n",
              "      <td>single</td>\n",
              "      <td>2</td>\n",
              "      <td>for free</td>\n",
              "      <td>4</td>\n",
              "      <td>skilled employee / official</td>\n",
              "      <td>1 year</td>\n",
              "      <td>4 years</td>\n",
              "      <td>NaN</td>\n",
              "      <td>1</td>\n",
              "      <td>Low</td>\n",
              "      <td>NaN</td>\n",
              "      <td>0</td>\n",
              "    </tr>\n",
              "  </tbody>\n",
              "</table>\n",
              "</div>\n",
              "      <button class=\"colab-df-convert\" onclick=\"convertToInteractive('df-ed8e1c20-e5b2-47c8-954b-2481ca2b81f2')\"\n",
              "              title=\"Convert this dataframe to an interactive table.\"\n",
              "              style=\"display:none;\">\n",
              "        \n",
              "  <svg xmlns=\"http://www.w3.org/2000/svg\" height=\"24px\"viewBox=\"0 0 24 24\"\n",
              "       width=\"24px\">\n",
              "    <path d=\"M0 0h24v24H0V0z\" fill=\"none\"/>\n",
              "    <path d=\"M18.56 5.44l.94 2.06.94-2.06 2.06-.94-2.06-.94-.94-2.06-.94 2.06-2.06.94zm-11 1L8.5 8.5l.94-2.06 2.06-.94-2.06-.94L8.5 2.5l-.94 2.06-2.06.94zm10 10l.94 2.06.94-2.06 2.06-.94-2.06-.94-.94-2.06-.94 2.06-2.06.94z\"/><path d=\"M17.41 7.96l-1.37-1.37c-.4-.4-.92-.59-1.43-.59-.52 0-1.04.2-1.43.59L10.3 9.45l-7.72 7.72c-.78.78-.78 2.05 0 2.83L4 21.41c.39.39.9.59 1.41.59.51 0 1.02-.2 1.41-.59l7.78-7.78 2.81-2.81c.8-.78.8-2.07 0-2.86zM5.41 20L4 18.59l7.72-7.72 1.47 1.35L5.41 20z\"/>\n",
              "  </svg>\n",
              "      </button>\n",
              "      \n",
              "  <style>\n",
              "    .colab-df-container {\n",
              "      display:flex;\n",
              "      flex-wrap:wrap;\n",
              "      gap: 12px;\n",
              "    }\n",
              "\n",
              "    .colab-df-convert {\n",
              "      background-color: #E8F0FE;\n",
              "      border: none;\n",
              "      border-radius: 50%;\n",
              "      cursor: pointer;\n",
              "      display: none;\n",
              "      fill: #1967D2;\n",
              "      height: 32px;\n",
              "      padding: 0 0 0 0;\n",
              "      width: 32px;\n",
              "    }\n",
              "\n",
              "    .colab-df-convert:hover {\n",
              "      background-color: #E2EBFA;\n",
              "      box-shadow: 0px 1px 2px rgba(60, 64, 67, 0.3), 0px 1px 3px 1px rgba(60, 64, 67, 0.15);\n",
              "      fill: #174EA6;\n",
              "    }\n",
              "\n",
              "    [theme=dark] .colab-df-convert {\n",
              "      background-color: #3B4455;\n",
              "      fill: #D2E3FC;\n",
              "    }\n",
              "\n",
              "    [theme=dark] .colab-df-convert:hover {\n",
              "      background-color: #434B5C;\n",
              "      box-shadow: 0px 1px 3px 1px rgba(0, 0, 0, 0.15);\n",
              "      filter: drop-shadow(0px 1px 2px rgba(0, 0, 0, 0.3));\n",
              "      fill: #FFFFFF;\n",
              "    }\n",
              "  </style>\n",
              "\n",
              "      <script>\n",
              "        const buttonEl =\n",
              "          document.querySelector('#df-ed8e1c20-e5b2-47c8-954b-2481ca2b81f2 button.colab-df-convert');\n",
              "        buttonEl.style.display =\n",
              "          google.colab.kernel.accessAllowed ? 'block' : 'none';\n",
              "\n",
              "        async function convertToInteractive(key) {\n",
              "          const element = document.querySelector('#df-ed8e1c20-e5b2-47c8-954b-2481ca2b81f2');\n",
              "          const dataTable =\n",
              "            await google.colab.kernel.invokeFunction('convertToInteractive',\n",
              "                                                     [key], {});\n",
              "          if (!dataTable) return;\n",
              "\n",
              "          const docLinkHtml = 'Like what you see? Visit the ' +\n",
              "            '<a target=\"_blank\" href=https://colab.research.google.com/notebooks/data_table.ipynb>data table notebook</a>'\n",
              "            + ' to learn more about interactive tables.';\n",
              "          element.innerHTML = '';\n",
              "          dataTable['output_type'] = 'display_data';\n",
              "          await google.colab.output.renderOutput(dataTable, element);\n",
              "          const docLink = document.createElement('div');\n",
              "          docLink.innerHTML = docLinkHtml;\n",
              "          element.appendChild(docLink);\n",
              "        }\n",
              "      </script>\n",
              "    </div>\n",
              "  </div>\n",
              "  "
            ]
          },
          "metadata": {},
          "execution_count": 111
        }
      ],
      "source": [
        "df1.head()"
      ]
    },
    {
      "cell_type": "code",
      "execution_count": null,
      "metadata": {
        "colab": {
          "base_uri": "https://localhost:8080/",
          "height": 478
        },
        "id": "OQna4Ivhy-1D",
        "outputId": "640f46d1-7296-42d1-a415-6b5464092189"
      },
      "outputs": [
        {
          "output_type": "execute_result",
          "data": {
            "text/plain": [
              "                    loan_application_id  applicant_id  Months_loan_taken_for  \\\n",
              "0  d68d975e-edad-11ea-8761-1d6f9c1ff461       1469590                      6   \n",
              "1  d68d989e-edad-11ea-b1d5-2bcf65006448       1203873                     48   \n",
              "2  d68d995c-edad-11ea-814a-1b6716782575       1432761                     12   \n",
              "3  d68d99fc-edad-11ea-8841-17e8848060ae       1207582                     42   \n",
              "4  d68d9a92-edad-11ea-9f3d-1f8682db006a       1674436                     24   \n",
              "\n",
              "                Purpose  Principal_loan_amount  \\\n",
              "0  electronic equipment                1169000   \n",
              "1  electronic equipment                5951000   \n",
              "2             education                2096000   \n",
              "3                  FF&E                7882000   \n",
              "4           new vehicle                4870000   \n",
              "\n",
              "   EMI_rate_in_percentage_of_disposable_income  \\\n",
              "0                                            4   \n",
              "1                                            2   \n",
              "2                                            2   \n",
              "3                                            2   \n",
              "4                                            3   \n",
              "\n",
              "                                            Property  Has_coapplicant  \\\n",
              "0                                        real estate                0   \n",
              "1                                        real estate                0   \n",
              "2                                        real estate                0   \n",
              "3  building society savings agreement/life insurance                0   \n",
              "4                                                NaN                0   \n",
              "\n",
              "   Has_guarantor Other_EMI_plans  Number_of_existing_loans_at_this_bank  \\\n",
              "0              0             NaN                                      2   \n",
              "1              0             NaN                                      1   \n",
              "2              0             NaN                                      1   \n",
              "3              1             NaN                                      1   \n",
              "4              0             NaN                                      2   \n",
              "\n",
              "                             Loan_history  high_risk_applicant  \n",
              "0   critical/pending loans at other banks                    0  \n",
              "1  existing loans paid back duly till now                    1  \n",
              "2   critical/pending loans at other banks                    0  \n",
              "3  existing loans paid back duly till now                    0  \n",
              "4   delay in paying off loans in the past                    1  "
            ],
            "text/html": [
              "\n",
              "  <div id=\"df-37c40977-b25e-45a5-8a72-467300f58cf3\">\n",
              "    <div class=\"colab-df-container\">\n",
              "      <div>\n",
              "<style scoped>\n",
              "    .dataframe tbody tr th:only-of-type {\n",
              "        vertical-align: middle;\n",
              "    }\n",
              "\n",
              "    .dataframe tbody tr th {\n",
              "        vertical-align: top;\n",
              "    }\n",
              "\n",
              "    .dataframe thead th {\n",
              "        text-align: right;\n",
              "    }\n",
              "</style>\n",
              "<table border=\"1\" class=\"dataframe\">\n",
              "  <thead>\n",
              "    <tr style=\"text-align: right;\">\n",
              "      <th></th>\n",
              "      <th>loan_application_id</th>\n",
              "      <th>applicant_id</th>\n",
              "      <th>Months_loan_taken_for</th>\n",
              "      <th>Purpose</th>\n",
              "      <th>Principal_loan_amount</th>\n",
              "      <th>EMI_rate_in_percentage_of_disposable_income</th>\n",
              "      <th>Property</th>\n",
              "      <th>Has_coapplicant</th>\n",
              "      <th>Has_guarantor</th>\n",
              "      <th>Other_EMI_plans</th>\n",
              "      <th>Number_of_existing_loans_at_this_bank</th>\n",
              "      <th>Loan_history</th>\n",
              "      <th>high_risk_applicant</th>\n",
              "    </tr>\n",
              "  </thead>\n",
              "  <tbody>\n",
              "    <tr>\n",
              "      <th>0</th>\n",
              "      <td>d68d975e-edad-11ea-8761-1d6f9c1ff461</td>\n",
              "      <td>1469590</td>\n",
              "      <td>6</td>\n",
              "      <td>electronic equipment</td>\n",
              "      <td>1169000</td>\n",
              "      <td>4</td>\n",
              "      <td>real estate</td>\n",
              "      <td>0</td>\n",
              "      <td>0</td>\n",
              "      <td>NaN</td>\n",
              "      <td>2</td>\n",
              "      <td>critical/pending loans at other banks</td>\n",
              "      <td>0</td>\n",
              "    </tr>\n",
              "    <tr>\n",
              "      <th>1</th>\n",
              "      <td>d68d989e-edad-11ea-b1d5-2bcf65006448</td>\n",
              "      <td>1203873</td>\n",
              "      <td>48</td>\n",
              "      <td>electronic equipment</td>\n",
              "      <td>5951000</td>\n",
              "      <td>2</td>\n",
              "      <td>real estate</td>\n",
              "      <td>0</td>\n",
              "      <td>0</td>\n",
              "      <td>NaN</td>\n",
              "      <td>1</td>\n",
              "      <td>existing loans paid back duly till now</td>\n",
              "      <td>1</td>\n",
              "    </tr>\n",
              "    <tr>\n",
              "      <th>2</th>\n",
              "      <td>d68d995c-edad-11ea-814a-1b6716782575</td>\n",
              "      <td>1432761</td>\n",
              "      <td>12</td>\n",
              "      <td>education</td>\n",
              "      <td>2096000</td>\n",
              "      <td>2</td>\n",
              "      <td>real estate</td>\n",
              "      <td>0</td>\n",
              "      <td>0</td>\n",
              "      <td>NaN</td>\n",
              "      <td>1</td>\n",
              "      <td>critical/pending loans at other banks</td>\n",
              "      <td>0</td>\n",
              "    </tr>\n",
              "    <tr>\n",
              "      <th>3</th>\n",
              "      <td>d68d99fc-edad-11ea-8841-17e8848060ae</td>\n",
              "      <td>1207582</td>\n",
              "      <td>42</td>\n",
              "      <td>FF&amp;E</td>\n",
              "      <td>7882000</td>\n",
              "      <td>2</td>\n",
              "      <td>building society savings agreement/life insurance</td>\n",
              "      <td>0</td>\n",
              "      <td>1</td>\n",
              "      <td>NaN</td>\n",
              "      <td>1</td>\n",
              "      <td>existing loans paid back duly till now</td>\n",
              "      <td>0</td>\n",
              "    </tr>\n",
              "    <tr>\n",
              "      <th>4</th>\n",
              "      <td>d68d9a92-edad-11ea-9f3d-1f8682db006a</td>\n",
              "      <td>1674436</td>\n",
              "      <td>24</td>\n",
              "      <td>new vehicle</td>\n",
              "      <td>4870000</td>\n",
              "      <td>3</td>\n",
              "      <td>NaN</td>\n",
              "      <td>0</td>\n",
              "      <td>0</td>\n",
              "      <td>NaN</td>\n",
              "      <td>2</td>\n",
              "      <td>delay in paying off loans in the past</td>\n",
              "      <td>1</td>\n",
              "    </tr>\n",
              "  </tbody>\n",
              "</table>\n",
              "</div>\n",
              "      <button class=\"colab-df-convert\" onclick=\"convertToInteractive('df-37c40977-b25e-45a5-8a72-467300f58cf3')\"\n",
              "              title=\"Convert this dataframe to an interactive table.\"\n",
              "              style=\"display:none;\">\n",
              "        \n",
              "  <svg xmlns=\"http://www.w3.org/2000/svg\" height=\"24px\"viewBox=\"0 0 24 24\"\n",
              "       width=\"24px\">\n",
              "    <path d=\"M0 0h24v24H0V0z\" fill=\"none\"/>\n",
              "    <path d=\"M18.56 5.44l.94 2.06.94-2.06 2.06-.94-2.06-.94-.94-2.06-.94 2.06-2.06.94zm-11 1L8.5 8.5l.94-2.06 2.06-.94-2.06-.94L8.5 2.5l-.94 2.06-2.06.94zm10 10l.94 2.06.94-2.06 2.06-.94-2.06-.94-.94-2.06-.94 2.06-2.06.94z\"/><path d=\"M17.41 7.96l-1.37-1.37c-.4-.4-.92-.59-1.43-.59-.52 0-1.04.2-1.43.59L10.3 9.45l-7.72 7.72c-.78.78-.78 2.05 0 2.83L4 21.41c.39.39.9.59 1.41.59.51 0 1.02-.2 1.41-.59l7.78-7.78 2.81-2.81c.8-.78.8-2.07 0-2.86zM5.41 20L4 18.59l7.72-7.72 1.47 1.35L5.41 20z\"/>\n",
              "  </svg>\n",
              "      </button>\n",
              "      \n",
              "  <style>\n",
              "    .colab-df-container {\n",
              "      display:flex;\n",
              "      flex-wrap:wrap;\n",
              "      gap: 12px;\n",
              "    }\n",
              "\n",
              "    .colab-df-convert {\n",
              "      background-color: #E8F0FE;\n",
              "      border: none;\n",
              "      border-radius: 50%;\n",
              "      cursor: pointer;\n",
              "      display: none;\n",
              "      fill: #1967D2;\n",
              "      height: 32px;\n",
              "      padding: 0 0 0 0;\n",
              "      width: 32px;\n",
              "    }\n",
              "\n",
              "    .colab-df-convert:hover {\n",
              "      background-color: #E2EBFA;\n",
              "      box-shadow: 0px 1px 2px rgba(60, 64, 67, 0.3), 0px 1px 3px 1px rgba(60, 64, 67, 0.15);\n",
              "      fill: #174EA6;\n",
              "    }\n",
              "\n",
              "    [theme=dark] .colab-df-convert {\n",
              "      background-color: #3B4455;\n",
              "      fill: #D2E3FC;\n",
              "    }\n",
              "\n",
              "    [theme=dark] .colab-df-convert:hover {\n",
              "      background-color: #434B5C;\n",
              "      box-shadow: 0px 1px 3px 1px rgba(0, 0, 0, 0.15);\n",
              "      filter: drop-shadow(0px 1px 2px rgba(0, 0, 0, 0.3));\n",
              "      fill: #FFFFFF;\n",
              "    }\n",
              "  </style>\n",
              "\n",
              "      <script>\n",
              "        const buttonEl =\n",
              "          document.querySelector('#df-37c40977-b25e-45a5-8a72-467300f58cf3 button.colab-df-convert');\n",
              "        buttonEl.style.display =\n",
              "          google.colab.kernel.accessAllowed ? 'block' : 'none';\n",
              "\n",
              "        async function convertToInteractive(key) {\n",
              "          const element = document.querySelector('#df-37c40977-b25e-45a5-8a72-467300f58cf3');\n",
              "          const dataTable =\n",
              "            await google.colab.kernel.invokeFunction('convertToInteractive',\n",
              "                                                     [key], {});\n",
              "          if (!dataTable) return;\n",
              "\n",
              "          const docLinkHtml = 'Like what you see? Visit the ' +\n",
              "            '<a target=\"_blank\" href=https://colab.research.google.com/notebooks/data_table.ipynb>data table notebook</a>'\n",
              "            + ' to learn more about interactive tables.';\n",
              "          element.innerHTML = '';\n",
              "          dataTable['output_type'] = 'display_data';\n",
              "          await google.colab.output.renderOutput(dataTable, element);\n",
              "          const docLink = document.createElement('div');\n",
              "          docLink.innerHTML = docLinkHtml;\n",
              "          element.appendChild(docLink);\n",
              "        }\n",
              "      </script>\n",
              "    </div>\n",
              "  </div>\n",
              "  "
            ]
          },
          "metadata": {},
          "execution_count": 112
        }
      ],
      "source": [
        "df2.head()"
      ]
    },
    {
      "cell_type": "code",
      "execution_count": null,
      "metadata": {
        "id": "dWQajYRezE0s"
      },
      "outputs": [],
      "source": [
        "#Merge two datasets\n",
        "df = pd.merge(df1,df2)"
      ]
    },
    {
      "cell_type": "code",
      "execution_count": null,
      "metadata": {
        "colab": {
          "base_uri": "https://localhost:8080/",
          "height": 508
        },
        "id": "bbqr7rumz1cp",
        "outputId": "2391519e-628f-4b89-a56d-bc76b7b4f093"
      },
      "outputs": [
        {
          "output_type": "execute_result",
          "data": {
            "text/plain": [
              "   applicant_id  Primary_applicant_age_in_years  Gender  \\\n",
              "0       1469590                              67    male   \n",
              "1       1203873                              22  female   \n",
              "2       1432761                              49    male   \n",
              "3       1207582                              45    male   \n",
              "4       1674436                              53    male   \n",
              "\n",
              "               Marital_status  Number_of_dependents   Housing  \\\n",
              "0                      single                     1       own   \n",
              "1  divorced/separated/married                     1       own   \n",
              "2                      single                     2       own   \n",
              "3                      single                     2  for free   \n",
              "4                      single                     2  for free   \n",
              "\n",
              "   Years_at_current_residence            Employment_status  \\\n",
              "0                           4  skilled employee / official   \n",
              "1                           2  skilled employee / official   \n",
              "2                           3         unskilled - resident   \n",
              "3                           4  skilled employee / official   \n",
              "4                           4  skilled employee / official   \n",
              "\n",
              "  Has_been_employed_for_at_least Has_been_employed_for_at_most  ...  \\\n",
              "0                        7 years                           NaN  ...   \n",
              "1                         1 year                       4 years  ...   \n",
              "2                        4 years                       7 years  ...   \n",
              "3                        4 years                       7 years  ...   \n",
              "4                         1 year                       4 years  ...   \n",
              "\n",
              "                Purpose  Principal_loan_amount  \\\n",
              "0  electronic equipment                1169000   \n",
              "1  electronic equipment                5951000   \n",
              "2             education                2096000   \n",
              "3                  FF&E                7882000   \n",
              "4           new vehicle                4870000   \n",
              "\n",
              "  EMI_rate_in_percentage_of_disposable_income  \\\n",
              "0                                           4   \n",
              "1                                           2   \n",
              "2                                           2   \n",
              "3                                           2   \n",
              "4                                           3   \n",
              "\n",
              "                                            Property Has_coapplicant  \\\n",
              "0                                        real estate               0   \n",
              "1                                        real estate               0   \n",
              "2                                        real estate               0   \n",
              "3  building society savings agreement/life insurance               0   \n",
              "4                                                NaN               0   \n",
              "\n",
              "  Has_guarantor  Other_EMI_plans Number_of_existing_loans_at_this_bank  \\\n",
              "0             0              NaN                                     2   \n",
              "1             0              NaN                                     1   \n",
              "2             0              NaN                                     1   \n",
              "3             1              NaN                                     1   \n",
              "4             0              NaN                                     2   \n",
              "\n",
              "                             Loan_history  high_risk_applicant  \n",
              "0   critical/pending loans at other banks                    0  \n",
              "1  existing loans paid back duly till now                    1  \n",
              "2   critical/pending loans at other banks                    0  \n",
              "3  existing loans paid back duly till now                    0  \n",
              "4   delay in paying off loans in the past                    1  \n",
              "\n",
              "[5 rows x 27 columns]"
            ],
            "text/html": [
              "\n",
              "  <div id=\"df-c499ed04-442d-4571-b7b5-b839bc77f151\">\n",
              "    <div class=\"colab-df-container\">\n",
              "      <div>\n",
              "<style scoped>\n",
              "    .dataframe tbody tr th:only-of-type {\n",
              "        vertical-align: middle;\n",
              "    }\n",
              "\n",
              "    .dataframe tbody tr th {\n",
              "        vertical-align: top;\n",
              "    }\n",
              "\n",
              "    .dataframe thead th {\n",
              "        text-align: right;\n",
              "    }\n",
              "</style>\n",
              "<table border=\"1\" class=\"dataframe\">\n",
              "  <thead>\n",
              "    <tr style=\"text-align: right;\">\n",
              "      <th></th>\n",
              "      <th>applicant_id</th>\n",
              "      <th>Primary_applicant_age_in_years</th>\n",
              "      <th>Gender</th>\n",
              "      <th>Marital_status</th>\n",
              "      <th>Number_of_dependents</th>\n",
              "      <th>Housing</th>\n",
              "      <th>Years_at_current_residence</th>\n",
              "      <th>Employment_status</th>\n",
              "      <th>Has_been_employed_for_at_least</th>\n",
              "      <th>Has_been_employed_for_at_most</th>\n",
              "      <th>...</th>\n",
              "      <th>Purpose</th>\n",
              "      <th>Principal_loan_amount</th>\n",
              "      <th>EMI_rate_in_percentage_of_disposable_income</th>\n",
              "      <th>Property</th>\n",
              "      <th>Has_coapplicant</th>\n",
              "      <th>Has_guarantor</th>\n",
              "      <th>Other_EMI_plans</th>\n",
              "      <th>Number_of_existing_loans_at_this_bank</th>\n",
              "      <th>Loan_history</th>\n",
              "      <th>high_risk_applicant</th>\n",
              "    </tr>\n",
              "  </thead>\n",
              "  <tbody>\n",
              "    <tr>\n",
              "      <th>0</th>\n",
              "      <td>1469590</td>\n",
              "      <td>67</td>\n",
              "      <td>male</td>\n",
              "      <td>single</td>\n",
              "      <td>1</td>\n",
              "      <td>own</td>\n",
              "      <td>4</td>\n",
              "      <td>skilled employee / official</td>\n",
              "      <td>7 years</td>\n",
              "      <td>NaN</td>\n",
              "      <td>...</td>\n",
              "      <td>electronic equipment</td>\n",
              "      <td>1169000</td>\n",
              "      <td>4</td>\n",
              "      <td>real estate</td>\n",
              "      <td>0</td>\n",
              "      <td>0</td>\n",
              "      <td>NaN</td>\n",
              "      <td>2</td>\n",
              "      <td>critical/pending loans at other banks</td>\n",
              "      <td>0</td>\n",
              "    </tr>\n",
              "    <tr>\n",
              "      <th>1</th>\n",
              "      <td>1203873</td>\n",
              "      <td>22</td>\n",
              "      <td>female</td>\n",
              "      <td>divorced/separated/married</td>\n",
              "      <td>1</td>\n",
              "      <td>own</td>\n",
              "      <td>2</td>\n",
              "      <td>skilled employee / official</td>\n",
              "      <td>1 year</td>\n",
              "      <td>4 years</td>\n",
              "      <td>...</td>\n",
              "      <td>electronic equipment</td>\n",
              "      <td>5951000</td>\n",
              "      <td>2</td>\n",
              "      <td>real estate</td>\n",
              "      <td>0</td>\n",
              "      <td>0</td>\n",
              "      <td>NaN</td>\n",
              "      <td>1</td>\n",
              "      <td>existing loans paid back duly till now</td>\n",
              "      <td>1</td>\n",
              "    </tr>\n",
              "    <tr>\n",
              "      <th>2</th>\n",
              "      <td>1432761</td>\n",
              "      <td>49</td>\n",
              "      <td>male</td>\n",
              "      <td>single</td>\n",
              "      <td>2</td>\n",
              "      <td>own</td>\n",
              "      <td>3</td>\n",
              "      <td>unskilled - resident</td>\n",
              "      <td>4 years</td>\n",
              "      <td>7 years</td>\n",
              "      <td>...</td>\n",
              "      <td>education</td>\n",
              "      <td>2096000</td>\n",
              "      <td>2</td>\n",
              "      <td>real estate</td>\n",
              "      <td>0</td>\n",
              "      <td>0</td>\n",
              "      <td>NaN</td>\n",
              "      <td>1</td>\n",
              "      <td>critical/pending loans at other banks</td>\n",
              "      <td>0</td>\n",
              "    </tr>\n",
              "    <tr>\n",
              "      <th>3</th>\n",
              "      <td>1207582</td>\n",
              "      <td>45</td>\n",
              "      <td>male</td>\n",
              "      <td>single</td>\n",
              "      <td>2</td>\n",
              "      <td>for free</td>\n",
              "      <td>4</td>\n",
              "      <td>skilled employee / official</td>\n",
              "      <td>4 years</td>\n",
              "      <td>7 years</td>\n",
              "      <td>...</td>\n",
              "      <td>FF&amp;E</td>\n",
              "      <td>7882000</td>\n",
              "      <td>2</td>\n",
              "      <td>building society savings agreement/life insurance</td>\n",
              "      <td>0</td>\n",
              "      <td>1</td>\n",
              "      <td>NaN</td>\n",
              "      <td>1</td>\n",
              "      <td>existing loans paid back duly till now</td>\n",
              "      <td>0</td>\n",
              "    </tr>\n",
              "    <tr>\n",
              "      <th>4</th>\n",
              "      <td>1674436</td>\n",
              "      <td>53</td>\n",
              "      <td>male</td>\n",
              "      <td>single</td>\n",
              "      <td>2</td>\n",
              "      <td>for free</td>\n",
              "      <td>4</td>\n",
              "      <td>skilled employee / official</td>\n",
              "      <td>1 year</td>\n",
              "      <td>4 years</td>\n",
              "      <td>...</td>\n",
              "      <td>new vehicle</td>\n",
              "      <td>4870000</td>\n",
              "      <td>3</td>\n",
              "      <td>NaN</td>\n",
              "      <td>0</td>\n",
              "      <td>0</td>\n",
              "      <td>NaN</td>\n",
              "      <td>2</td>\n",
              "      <td>delay in paying off loans in the past</td>\n",
              "      <td>1</td>\n",
              "    </tr>\n",
              "  </tbody>\n",
              "</table>\n",
              "<p>5 rows × 27 columns</p>\n",
              "</div>\n",
              "      <button class=\"colab-df-convert\" onclick=\"convertToInteractive('df-c499ed04-442d-4571-b7b5-b839bc77f151')\"\n",
              "              title=\"Convert this dataframe to an interactive table.\"\n",
              "              style=\"display:none;\">\n",
              "        \n",
              "  <svg xmlns=\"http://www.w3.org/2000/svg\" height=\"24px\"viewBox=\"0 0 24 24\"\n",
              "       width=\"24px\">\n",
              "    <path d=\"M0 0h24v24H0V0z\" fill=\"none\"/>\n",
              "    <path d=\"M18.56 5.44l.94 2.06.94-2.06 2.06-.94-2.06-.94-.94-2.06-.94 2.06-2.06.94zm-11 1L8.5 8.5l.94-2.06 2.06-.94-2.06-.94L8.5 2.5l-.94 2.06-2.06.94zm10 10l.94 2.06.94-2.06 2.06-.94-2.06-.94-.94-2.06-.94 2.06-2.06.94z\"/><path d=\"M17.41 7.96l-1.37-1.37c-.4-.4-.92-.59-1.43-.59-.52 0-1.04.2-1.43.59L10.3 9.45l-7.72 7.72c-.78.78-.78 2.05 0 2.83L4 21.41c.39.39.9.59 1.41.59.51 0 1.02-.2 1.41-.59l7.78-7.78 2.81-2.81c.8-.78.8-2.07 0-2.86zM5.41 20L4 18.59l7.72-7.72 1.47 1.35L5.41 20z\"/>\n",
              "  </svg>\n",
              "      </button>\n",
              "      \n",
              "  <style>\n",
              "    .colab-df-container {\n",
              "      display:flex;\n",
              "      flex-wrap:wrap;\n",
              "      gap: 12px;\n",
              "    }\n",
              "\n",
              "    .colab-df-convert {\n",
              "      background-color: #E8F0FE;\n",
              "      border: none;\n",
              "      border-radius: 50%;\n",
              "      cursor: pointer;\n",
              "      display: none;\n",
              "      fill: #1967D2;\n",
              "      height: 32px;\n",
              "      padding: 0 0 0 0;\n",
              "      width: 32px;\n",
              "    }\n",
              "\n",
              "    .colab-df-convert:hover {\n",
              "      background-color: #E2EBFA;\n",
              "      box-shadow: 0px 1px 2px rgba(60, 64, 67, 0.3), 0px 1px 3px 1px rgba(60, 64, 67, 0.15);\n",
              "      fill: #174EA6;\n",
              "    }\n",
              "\n",
              "    [theme=dark] .colab-df-convert {\n",
              "      background-color: #3B4455;\n",
              "      fill: #D2E3FC;\n",
              "    }\n",
              "\n",
              "    [theme=dark] .colab-df-convert:hover {\n",
              "      background-color: #434B5C;\n",
              "      box-shadow: 0px 1px 3px 1px rgba(0, 0, 0, 0.15);\n",
              "      filter: drop-shadow(0px 1px 2px rgba(0, 0, 0, 0.3));\n",
              "      fill: #FFFFFF;\n",
              "    }\n",
              "  </style>\n",
              "\n",
              "      <script>\n",
              "        const buttonEl =\n",
              "          document.querySelector('#df-c499ed04-442d-4571-b7b5-b839bc77f151 button.colab-df-convert');\n",
              "        buttonEl.style.display =\n",
              "          google.colab.kernel.accessAllowed ? 'block' : 'none';\n",
              "\n",
              "        async function convertToInteractive(key) {\n",
              "          const element = document.querySelector('#df-c499ed04-442d-4571-b7b5-b839bc77f151');\n",
              "          const dataTable =\n",
              "            await google.colab.kernel.invokeFunction('convertToInteractive',\n",
              "                                                     [key], {});\n",
              "          if (!dataTable) return;\n",
              "\n",
              "          const docLinkHtml = 'Like what you see? Visit the ' +\n",
              "            '<a target=\"_blank\" href=https://colab.research.google.com/notebooks/data_table.ipynb>data table notebook</a>'\n",
              "            + ' to learn more about interactive tables.';\n",
              "          element.innerHTML = '';\n",
              "          dataTable['output_type'] = 'display_data';\n",
              "          await google.colab.output.renderOutput(dataTable, element);\n",
              "          const docLink = document.createElement('div');\n",
              "          docLink.innerHTML = docLinkHtml;\n",
              "          element.appendChild(docLink);\n",
              "        }\n",
              "      </script>\n",
              "    </div>\n",
              "  </div>\n",
              "  "
            ]
          },
          "metadata": {},
          "execution_count": 114
        }
      ],
      "source": [
        "#Displaying the final dataset\n",
        "df.head()"
      ]
    },
    {
      "cell_type": "code",
      "execution_count": null,
      "metadata": {
        "colab": {
          "base_uri": "https://localhost:8080/"
        },
        "id": "pPvXPbrUz6S1",
        "outputId": "a72987fc-3425-4db7-9906-8f38e5b06b3f"
      },
      "outputs": [
        {
          "output_type": "execute_result",
          "data": {
            "text/plain": [
              "(1000, 27)"
            ]
          },
          "metadata": {},
          "execution_count": 115
        }
      ],
      "source": [
        "#Shape of the dataset\n",
        "df.shape"
      ]
    },
    {
      "cell_type": "markdown",
      "metadata": {
        "id": "swSH8JXw0EnM"
      },
      "source": [
        "Observation -\n",
        "\n",
        "This dataset has 1000 rows and 27 columns"
      ]
    },
    {
      "cell_type": "markdown",
      "metadata": {
        "id": "1f1aU6ZY-BWR"
      },
      "source": [
        "### Display the complete summary of the dataset\n",
        "df.info() gives the summary of the dataframe including data types, shape and memory storage."
      ]
    },
    {
      "cell_type": "code",
      "execution_count": null,
      "metadata": {
        "colab": {
          "base_uri": "https://localhost:8080/"
        },
        "id": "F-Qis9Kv0Au3",
        "outputId": "b5fb3411-3bf3-440f-98ad-8a7f7b1820c0"
      },
      "outputs": [
        {
          "output_type": "stream",
          "name": "stdout",
          "text": [
            "<class 'pandas.core.frame.DataFrame'>\n",
            "Int64Index: 1000 entries, 0 to 999\n",
            "Data columns (total 27 columns):\n",
            " #   Column                                                    Non-Null Count  Dtype \n",
            "---  ------                                                    --------------  ----- \n",
            " 0   applicant_id                                              1000 non-null   int64 \n",
            " 1   Primary_applicant_age_in_years                            1000 non-null   int64 \n",
            " 2   Gender                                                    1000 non-null   object\n",
            " 3   Marital_status                                            1000 non-null   object\n",
            " 4   Number_of_dependents                                      1000 non-null   int64 \n",
            " 5   Housing                                                   1000 non-null   object\n",
            " 6   Years_at_current_residence                                1000 non-null   int64 \n",
            " 7   Employment_status                                         1000 non-null   object\n",
            " 8   Has_been_employed_for_at_least                            938 non-null    object\n",
            " 9   Has_been_employed_for_at_most                             747 non-null    object\n",
            " 10  Telephone                                                 404 non-null    object\n",
            " 11  Foreign_worker                                            1000 non-null   int64 \n",
            " 12  Savings_account_balance                                   817 non-null    object\n",
            " 13  Balance_in_existing_bank_account_(lower_limit_of_bucket)  332 non-null    object\n",
            " 14  Balance_in_existing_bank_account_(upper_limit_of_bucket)  543 non-null    object\n",
            " 15  loan_application_id                                       1000 non-null   object\n",
            " 16  Months_loan_taken_for                                     1000 non-null   int64 \n",
            " 17  Purpose                                                   988 non-null    object\n",
            " 18  Principal_loan_amount                                     1000 non-null   int64 \n",
            " 19  EMI_rate_in_percentage_of_disposable_income               1000 non-null   int64 \n",
            " 20  Property                                                  846 non-null    object\n",
            " 21  Has_coapplicant                                           1000 non-null   int64 \n",
            " 22  Has_guarantor                                             1000 non-null   int64 \n",
            " 23  Other_EMI_plans                                           186 non-null    object\n",
            " 24  Number_of_existing_loans_at_this_bank                     1000 non-null   int64 \n",
            " 25  Loan_history                                              1000 non-null   object\n",
            " 26  high_risk_applicant                                       1000 non-null   int64 \n",
            "dtypes: int64(12), object(15)\n",
            "memory usage: 218.8+ KB\n"
          ]
        }
      ],
      "source": [
        "#Information of the dataset\n",
        "df.info()"
      ]
    },
    {
      "cell_type": "markdown",
      "metadata": {
        "id": "Nb2RHXlp3jKr"
      },
      "source": [
        "Observation -\n",
        "\n",
        "Some coloumns have Null values like Purpose, Property, Savings_account_balance and some more..\n",
        "Other_EMI_plans have more than 50% of null values.\n"
      ]
    },
    {
      "cell_type": "markdown",
      "metadata": {
        "id": "90kYWITI-LvZ"
      },
      "source": [
        "###Checking the Null Values\n",
        "The isnull() function returns a specified value if the expression is NULL. If the expression is NOT NULL, this function returns the expression.\n"
      ]
    },
    {
      "cell_type": "code",
      "execution_count": null,
      "metadata": {
        "colab": {
          "base_uri": "https://localhost:8080/",
          "height": 896
        },
        "id": "aZWq2Wmf-KSz",
        "outputId": "169824ad-e7dc-495b-bac7-8f0fa04479ab"
      },
      "outputs": [
        {
          "output_type": "execute_result",
          "data": {
            "text/plain": [
              "                                                    Missing Value \n",
              "applicant_id                                                     0\n",
              "Primary_applicant_age_in_years                                   0\n",
              "Gender                                                           0\n",
              "Marital_status                                                   0\n",
              "Number_of_dependents                                             0\n",
              "Housing                                                          0\n",
              "Years_at_current_residence                                       0\n",
              "Employment_status                                                0\n",
              "Has_been_employed_for_at_least                                  62\n",
              "Has_been_employed_for_at_most                                  253\n",
              "Telephone                                                      596\n",
              "Foreign_worker                                                   0\n",
              "Savings_account_balance                                        183\n",
              "Balance_in_existing_bank_account_(lower_limit_o...             668\n",
              "Balance_in_existing_bank_account_(upper_limit_o...             457\n",
              "loan_application_id                                              0\n",
              "Months_loan_taken_for                                            0\n",
              "Purpose                                                         12\n",
              "Principal_loan_amount                                            0\n",
              "EMI_rate_in_percentage_of_disposable_income                      0\n",
              "Property                                                       154\n",
              "Has_coapplicant                                                  0\n",
              "Has_guarantor                                                    0\n",
              "Other_EMI_plans                                                814\n",
              "Number_of_existing_loans_at_this_bank                            0\n",
              "Loan_history                                                     0\n",
              "high_risk_applicant                                              0"
            ],
            "text/html": [
              "\n",
              "  <div id=\"df-f780c93f-1a7b-407d-8e74-8b586c1b555d\">\n",
              "    <div class=\"colab-df-container\">\n",
              "      <div>\n",
              "<style scoped>\n",
              "    .dataframe tbody tr th:only-of-type {\n",
              "        vertical-align: middle;\n",
              "    }\n",
              "\n",
              "    .dataframe tbody tr th {\n",
              "        vertical-align: top;\n",
              "    }\n",
              "\n",
              "    .dataframe thead th {\n",
              "        text-align: right;\n",
              "    }\n",
              "</style>\n",
              "<table border=\"1\" class=\"dataframe\">\n",
              "  <thead>\n",
              "    <tr style=\"text-align: right;\">\n",
              "      <th></th>\n",
              "      <th>Missing Value</th>\n",
              "    </tr>\n",
              "  </thead>\n",
              "  <tbody>\n",
              "    <tr>\n",
              "      <th>applicant_id</th>\n",
              "      <td>0</td>\n",
              "    </tr>\n",
              "    <tr>\n",
              "      <th>Primary_applicant_age_in_years</th>\n",
              "      <td>0</td>\n",
              "    </tr>\n",
              "    <tr>\n",
              "      <th>Gender</th>\n",
              "      <td>0</td>\n",
              "    </tr>\n",
              "    <tr>\n",
              "      <th>Marital_status</th>\n",
              "      <td>0</td>\n",
              "    </tr>\n",
              "    <tr>\n",
              "      <th>Number_of_dependents</th>\n",
              "      <td>0</td>\n",
              "    </tr>\n",
              "    <tr>\n",
              "      <th>Housing</th>\n",
              "      <td>0</td>\n",
              "    </tr>\n",
              "    <tr>\n",
              "      <th>Years_at_current_residence</th>\n",
              "      <td>0</td>\n",
              "    </tr>\n",
              "    <tr>\n",
              "      <th>Employment_status</th>\n",
              "      <td>0</td>\n",
              "    </tr>\n",
              "    <tr>\n",
              "      <th>Has_been_employed_for_at_least</th>\n",
              "      <td>62</td>\n",
              "    </tr>\n",
              "    <tr>\n",
              "      <th>Has_been_employed_for_at_most</th>\n",
              "      <td>253</td>\n",
              "    </tr>\n",
              "    <tr>\n",
              "      <th>Telephone</th>\n",
              "      <td>596</td>\n",
              "    </tr>\n",
              "    <tr>\n",
              "      <th>Foreign_worker</th>\n",
              "      <td>0</td>\n",
              "    </tr>\n",
              "    <tr>\n",
              "      <th>Savings_account_balance</th>\n",
              "      <td>183</td>\n",
              "    </tr>\n",
              "    <tr>\n",
              "      <th>Balance_in_existing_bank_account_(lower_limit_of_bucket)</th>\n",
              "      <td>668</td>\n",
              "    </tr>\n",
              "    <tr>\n",
              "      <th>Balance_in_existing_bank_account_(upper_limit_of_bucket)</th>\n",
              "      <td>457</td>\n",
              "    </tr>\n",
              "    <tr>\n",
              "      <th>loan_application_id</th>\n",
              "      <td>0</td>\n",
              "    </tr>\n",
              "    <tr>\n",
              "      <th>Months_loan_taken_for</th>\n",
              "      <td>0</td>\n",
              "    </tr>\n",
              "    <tr>\n",
              "      <th>Purpose</th>\n",
              "      <td>12</td>\n",
              "    </tr>\n",
              "    <tr>\n",
              "      <th>Principal_loan_amount</th>\n",
              "      <td>0</td>\n",
              "    </tr>\n",
              "    <tr>\n",
              "      <th>EMI_rate_in_percentage_of_disposable_income</th>\n",
              "      <td>0</td>\n",
              "    </tr>\n",
              "    <tr>\n",
              "      <th>Property</th>\n",
              "      <td>154</td>\n",
              "    </tr>\n",
              "    <tr>\n",
              "      <th>Has_coapplicant</th>\n",
              "      <td>0</td>\n",
              "    </tr>\n",
              "    <tr>\n",
              "      <th>Has_guarantor</th>\n",
              "      <td>0</td>\n",
              "    </tr>\n",
              "    <tr>\n",
              "      <th>Other_EMI_plans</th>\n",
              "      <td>814</td>\n",
              "    </tr>\n",
              "    <tr>\n",
              "      <th>Number_of_existing_loans_at_this_bank</th>\n",
              "      <td>0</td>\n",
              "    </tr>\n",
              "    <tr>\n",
              "      <th>Loan_history</th>\n",
              "      <td>0</td>\n",
              "    </tr>\n",
              "    <tr>\n",
              "      <th>high_risk_applicant</th>\n",
              "      <td>0</td>\n",
              "    </tr>\n",
              "  </tbody>\n",
              "</table>\n",
              "</div>\n",
              "      <button class=\"colab-df-convert\" onclick=\"convertToInteractive('df-f780c93f-1a7b-407d-8e74-8b586c1b555d')\"\n",
              "              title=\"Convert this dataframe to an interactive table.\"\n",
              "              style=\"display:none;\">\n",
              "        \n",
              "  <svg xmlns=\"http://www.w3.org/2000/svg\" height=\"24px\"viewBox=\"0 0 24 24\"\n",
              "       width=\"24px\">\n",
              "    <path d=\"M0 0h24v24H0V0z\" fill=\"none\"/>\n",
              "    <path d=\"M18.56 5.44l.94 2.06.94-2.06 2.06-.94-2.06-.94-.94-2.06-.94 2.06-2.06.94zm-11 1L8.5 8.5l.94-2.06 2.06-.94-2.06-.94L8.5 2.5l-.94 2.06-2.06.94zm10 10l.94 2.06.94-2.06 2.06-.94-2.06-.94-.94-2.06-.94 2.06-2.06.94z\"/><path d=\"M17.41 7.96l-1.37-1.37c-.4-.4-.92-.59-1.43-.59-.52 0-1.04.2-1.43.59L10.3 9.45l-7.72 7.72c-.78.78-.78 2.05 0 2.83L4 21.41c.39.39.9.59 1.41.59.51 0 1.02-.2 1.41-.59l7.78-7.78 2.81-2.81c.8-.78.8-2.07 0-2.86zM5.41 20L4 18.59l7.72-7.72 1.47 1.35L5.41 20z\"/>\n",
              "  </svg>\n",
              "      </button>\n",
              "      \n",
              "  <style>\n",
              "    .colab-df-container {\n",
              "      display:flex;\n",
              "      flex-wrap:wrap;\n",
              "      gap: 12px;\n",
              "    }\n",
              "\n",
              "    .colab-df-convert {\n",
              "      background-color: #E8F0FE;\n",
              "      border: none;\n",
              "      border-radius: 50%;\n",
              "      cursor: pointer;\n",
              "      display: none;\n",
              "      fill: #1967D2;\n",
              "      height: 32px;\n",
              "      padding: 0 0 0 0;\n",
              "      width: 32px;\n",
              "    }\n",
              "\n",
              "    .colab-df-convert:hover {\n",
              "      background-color: #E2EBFA;\n",
              "      box-shadow: 0px 1px 2px rgba(60, 64, 67, 0.3), 0px 1px 3px 1px rgba(60, 64, 67, 0.15);\n",
              "      fill: #174EA6;\n",
              "    }\n",
              "\n",
              "    [theme=dark] .colab-df-convert {\n",
              "      background-color: #3B4455;\n",
              "      fill: #D2E3FC;\n",
              "    }\n",
              "\n",
              "    [theme=dark] .colab-df-convert:hover {\n",
              "      background-color: #434B5C;\n",
              "      box-shadow: 0px 1px 3px 1px rgba(0, 0, 0, 0.15);\n",
              "      filter: drop-shadow(0px 1px 2px rgba(0, 0, 0, 0.3));\n",
              "      fill: #FFFFFF;\n",
              "    }\n",
              "  </style>\n",
              "\n",
              "      <script>\n",
              "        const buttonEl =\n",
              "          document.querySelector('#df-f780c93f-1a7b-407d-8e74-8b586c1b555d button.colab-df-convert');\n",
              "        buttonEl.style.display =\n",
              "          google.colab.kernel.accessAllowed ? 'block' : 'none';\n",
              "\n",
              "        async function convertToInteractive(key) {\n",
              "          const element = document.querySelector('#df-f780c93f-1a7b-407d-8e74-8b586c1b555d');\n",
              "          const dataTable =\n",
              "            await google.colab.kernel.invokeFunction('convertToInteractive',\n",
              "                                                     [key], {});\n",
              "          if (!dataTable) return;\n",
              "\n",
              "          const docLinkHtml = 'Like what you see? Visit the ' +\n",
              "            '<a target=\"_blank\" href=https://colab.research.google.com/notebooks/data_table.ipynb>data table notebook</a>'\n",
              "            + ' to learn more about interactive tables.';\n",
              "          element.innerHTML = '';\n",
              "          dataTable['output_type'] = 'display_data';\n",
              "          await google.colab.output.renderOutput(dataTable, element);\n",
              "          const docLink = document.createElement('div');\n",
              "          docLink.innerHTML = docLinkHtml;\n",
              "          element.appendChild(docLink);\n",
              "        }\n",
              "      </script>\n",
              "    </div>\n",
              "  </div>\n",
              "  "
            ]
          },
          "metadata": {},
          "execution_count": 117
        }
      ],
      "source": [
        "# Checking for NUll Values\n",
        "df.isna().sum().to_frame().rename(columns={0:'Missing Value '})"
      ]
    },
    {
      "cell_type": "markdown",
      "metadata": {
        "id": "xE5DAs_Z-baL"
      },
      "source": [
        "Observation - \n",
        "\n",
        "Here we can see that there are some null values\n",
        "\n",
        "If it is numerical, I will replace the null values with mean.\n",
        "If it is categorical, I will replace the null values with mode."
      ]
    },
    {
      "cell_type": "markdown",
      "metadata": {
        "id": "xkGH3cNf--UX"
      },
      "source": [
        "##Checking Unique Values\n",
        "The nunique() method returns the number of unique values for each column."
      ]
    },
    {
      "cell_type": "code",
      "execution_count": null,
      "metadata": {
        "colab": {
          "base_uri": "https://localhost:8080/"
        },
        "id": "m8zZ8BH6-jCl",
        "outputId": "7951799a-b9da-4266-9de4-ce83211c8a74"
      },
      "outputs": [
        {
          "output_type": "execute_result",
          "data": {
            "text/plain": [
              "applicant_id                                                1000\n",
              "Primary_applicant_age_in_years                                53\n",
              "Gender                                                         2\n",
              "Marital_status                                                 4\n",
              "Number_of_dependents                                           2\n",
              "Housing                                                        3\n",
              "Years_at_current_residence                                     4\n",
              "Employment_status                                              4\n",
              "Has_been_employed_for_at_least                                 4\n",
              "Has_been_employed_for_at_most                                  4\n",
              "Telephone                                                      1\n",
              "Foreign_worker                                                 2\n",
              "Savings_account_balance                                        4\n",
              "Balance_in_existing_bank_account_(lower_limit_of_bucket)       2\n",
              "Balance_in_existing_bank_account_(upper_limit_of_bucket)       2\n",
              "loan_application_id                                         1000\n",
              "Months_loan_taken_for                                         33\n",
              "Purpose                                                        9\n",
              "Principal_loan_amount                                        921\n",
              "EMI_rate_in_percentage_of_disposable_income                    4\n",
              "Property                                                       3\n",
              "Has_coapplicant                                                2\n",
              "Has_guarantor                                                  2\n",
              "Other_EMI_plans                                                2\n",
              "Number_of_existing_loans_at_this_bank                          4\n",
              "Loan_history                                                   5\n",
              "high_risk_applicant                                            2\n",
              "dtype: int64"
            ]
          },
          "metadata": {},
          "execution_count": 118
        }
      ],
      "source": [
        "#checking unique values of each features\n",
        "df.nunique()"
      ]
    },
    {
      "cell_type": "markdown",
      "metadata": {
        "id": "3gkF4dPr-sCS"
      },
      "source": [
        "Observation -\n",
        "\n",
        "We may remove the applicant_id and loan_application_id column because the values in it are all unique.\n",
        "We can have encode all other categorical columns."
      ]
    },
    {
      "cell_type": "markdown",
      "metadata": {
        "id": "GQrVUSP-_O9q"
      },
      "source": [
        "###Checking Duplicates in the dataset"
      ]
    },
    {
      "cell_type": "code",
      "execution_count": null,
      "metadata": {
        "colab": {
          "base_uri": "https://localhost:8080/"
        },
        "id": "tTzLnpHW_Ovb",
        "outputId": "be58a555-d452-4d9f-9a68-c2fbe848c743"
      },
      "outputs": [
        {
          "output_type": "execute_result",
          "data": {
            "text/plain": [
              "0"
            ]
          },
          "metadata": {},
          "execution_count": 119
        }
      ],
      "source": [
        "#Finding Duplicate values\n",
        "len(df[df.duplicated()])"
      ]
    },
    {
      "cell_type": "markdown",
      "metadata": {
        "id": "ovsBFvNd_WnI"
      },
      "source": [
        "Observation - \n",
        "\n",
        "No Duplicates found in this dataset."
      ]
    },
    {
      "cell_type": "markdown",
      "metadata": {
        "id": "uuXTdpig_e6R"
      },
      "source": [
        "###Checking Columns in the dataset"
      ]
    },
    {
      "cell_type": "code",
      "execution_count": null,
      "metadata": {
        "colab": {
          "base_uri": "https://localhost:8080/"
        },
        "id": "t_FpO1w-98zU",
        "outputId": "bb134720-676a-41c4-e273-460aea33af97"
      },
      "outputs": [
        {
          "output_type": "execute_result",
          "data": {
            "text/plain": [
              "Index(['applicant_id', 'Primary_applicant_age_in_years', 'Gender',\n",
              "       'Marital_status', 'Number_of_dependents', 'Housing',\n",
              "       'Years_at_current_residence', 'Employment_status',\n",
              "       'Has_been_employed_for_at_least', 'Has_been_employed_for_at_most',\n",
              "       'Telephone', 'Foreign_worker', 'Savings_account_balance',\n",
              "       'Balance_in_existing_bank_account_(lower_limit_of_bucket)',\n",
              "       'Balance_in_existing_bank_account_(upper_limit_of_bucket)',\n",
              "       'loan_application_id', 'Months_loan_taken_for', 'Purpose',\n",
              "       'Principal_loan_amount', 'EMI_rate_in_percentage_of_disposable_income',\n",
              "       'Property', 'Has_coapplicant', 'Has_guarantor', 'Other_EMI_plans',\n",
              "       'Number_of_existing_loans_at_this_bank', 'Loan_history',\n",
              "       'high_risk_applicant'],\n",
              "      dtype='object')"
            ]
          },
          "metadata": {},
          "execution_count": 120
        }
      ],
      "source": [
        "#checking columns of data\n",
        "df.columns"
      ]
    },
    {
      "cell_type": "markdown",
      "metadata": {
        "id": "z2AuhcnM_kf5"
      },
      "source": [
        "###Descriptive Statistics"
      ]
    },
    {
      "cell_type": "markdown",
      "metadata": {
        "id": "5yn3smC3_nGs"
      },
      "source": [
        "###Checking the statistics of our data like mean, standard deviation and so on..\n",
        "\n",
        "To learn more about the dataset features, w e're using the df.describe() function, which provides statistical data on all numerical features of our data frame by default."
      ]
    },
    {
      "cell_type": "code",
      "execution_count": null,
      "metadata": {
        "colab": {
          "base_uri": "https://localhost:8080/",
          "height": 522
        },
        "id": "I1eN68ZQ_kFB",
        "outputId": "3cfd308d-c4b0-4f4c-ab28-7c7646e3985c"
      },
      "outputs": [
        {
          "output_type": "execute_result",
          "data": {
            "text/plain": [
              "        applicant_id  Primary_applicant_age_in_years Gender Marital_status  \\\n",
              "count   1.000000e+03                     1000.000000   1000           1000   \n",
              "unique           NaN                             NaN      2              4   \n",
              "top              NaN                             NaN   male         single   \n",
              "freq             NaN                             NaN    690            548   \n",
              "mean    1.514763e+06                       35.546000    NaN            NaN   \n",
              "std     2.286764e+05                       11.375469    NaN            NaN   \n",
              "min     1.105364e+06                       19.000000    NaN            NaN   \n",
              "25%     1.321398e+06                       27.000000    NaN            NaN   \n",
              "50%     1.529114e+06                       33.000000    NaN            NaN   \n",
              "75%     1.707752e+06                       42.000000    NaN            NaN   \n",
              "max     1.903505e+06                       75.000000    NaN            NaN   \n",
              "\n",
              "        Number_of_dependents Housing  Years_at_current_residence  \\\n",
              "count            1000.000000    1000                 1000.000000   \n",
              "unique                   NaN       3                         NaN   \n",
              "top                      NaN     own                         NaN   \n",
              "freq                     NaN     713                         NaN   \n",
              "mean                1.155000     NaN                    2.845000   \n",
              "std                 0.362086     NaN                    1.103718   \n",
              "min                 1.000000     NaN                    1.000000   \n",
              "25%                 1.000000     NaN                    2.000000   \n",
              "50%                 1.000000     NaN                    3.000000   \n",
              "75%                 1.000000     NaN                    4.000000   \n",
              "max                 2.000000     NaN                    4.000000   \n",
              "\n",
              "                  Employment_status Has_been_employed_for_at_least  \\\n",
              "count                          1000                            938   \n",
              "unique                            4                              4   \n",
              "top     skilled employee / official                         1 year   \n",
              "freq                            630                            339   \n",
              "mean                            NaN                            NaN   \n",
              "std                             NaN                            NaN   \n",
              "min                             NaN                            NaN   \n",
              "25%                             NaN                            NaN   \n",
              "50%                             NaN                            NaN   \n",
              "75%                             NaN                            NaN   \n",
              "max                             NaN                            NaN   \n",
              "\n",
              "       Has_been_employed_for_at_most  ...               Purpose  \\\n",
              "count                            747  ...                   988   \n",
              "unique                             4  ...                     9   \n",
              "top                          4 years  ...  electronic equipment   \n",
              "freq                             339  ...                   280   \n",
              "mean                             NaN  ...                   NaN   \n",
              "std                              NaN  ...                   NaN   \n",
              "min                              NaN  ...                   NaN   \n",
              "25%                              NaN  ...                   NaN   \n",
              "50%                              NaN  ...                   NaN   \n",
              "75%                              NaN  ...                   NaN   \n",
              "max                              NaN  ...                   NaN   \n",
              "\n",
              "        Principal_loan_amount EMI_rate_in_percentage_of_disposable_income  \\\n",
              "count            1.000000e+03                                 1000.000000   \n",
              "unique                    NaN                                         NaN   \n",
              "top                       NaN                                         NaN   \n",
              "freq                      NaN                                         NaN   \n",
              "mean             3.271258e+06                                    2.973000   \n",
              "std              2.822737e+06                                    1.118715   \n",
              "min              2.500000e+05                                    1.000000   \n",
              "25%              1.365500e+06                                    2.000000   \n",
              "50%              2.319500e+06                                    3.000000   \n",
              "75%              3.972250e+06                                    4.000000   \n",
              "max              1.842400e+07                                    4.000000   \n",
              "\n",
              "            Property Has_coapplicant Has_guarantor  Other_EMI_plans  \\\n",
              "count            846     1000.000000   1000.000000              186   \n",
              "unique             3             NaN           NaN                2   \n",
              "top     car or other             NaN           NaN             bank   \n",
              "freq             332             NaN           NaN              139   \n",
              "mean             NaN        0.041000      0.052000              NaN   \n",
              "std              NaN        0.198389      0.222138              NaN   \n",
              "min              NaN        0.000000      0.000000              NaN   \n",
              "25%              NaN        0.000000      0.000000              NaN   \n",
              "50%              NaN        0.000000      0.000000              NaN   \n",
              "75%              NaN        0.000000      0.000000              NaN   \n",
              "max              NaN        1.000000      1.000000              NaN   \n",
              "\n",
              "       Number_of_existing_loans_at_this_bank  \\\n",
              "count                            1000.000000   \n",
              "unique                                   NaN   \n",
              "top                                      NaN   \n",
              "freq                                     NaN   \n",
              "mean                                1.407000   \n",
              "std                                 0.577654   \n",
              "min                                 1.000000   \n",
              "25%                                 1.000000   \n",
              "50%                                 1.000000   \n",
              "75%                                 2.000000   \n",
              "max                                 4.000000   \n",
              "\n",
              "                                  Loan_history  high_risk_applicant  \n",
              "count                                     1000          1000.000000  \n",
              "unique                                       5                  NaN  \n",
              "top     existing loans paid back duly till now                  NaN  \n",
              "freq                                       530                  NaN  \n",
              "mean                                       NaN             0.300000  \n",
              "std                                        NaN             0.458487  \n",
              "min                                        NaN             0.000000  \n",
              "25%                                        NaN             0.000000  \n",
              "50%                                        NaN             0.000000  \n",
              "75%                                        NaN             1.000000  \n",
              "max                                        NaN             1.000000  \n",
              "\n",
              "[11 rows x 27 columns]"
            ],
            "text/html": [
              "\n",
              "  <div id=\"df-c8430c98-46fe-4b58-a0bb-44071564012b\">\n",
              "    <div class=\"colab-df-container\">\n",
              "      <div>\n",
              "<style scoped>\n",
              "    .dataframe tbody tr th:only-of-type {\n",
              "        vertical-align: middle;\n",
              "    }\n",
              "\n",
              "    .dataframe tbody tr th {\n",
              "        vertical-align: top;\n",
              "    }\n",
              "\n",
              "    .dataframe thead th {\n",
              "        text-align: right;\n",
              "    }\n",
              "</style>\n",
              "<table border=\"1\" class=\"dataframe\">\n",
              "  <thead>\n",
              "    <tr style=\"text-align: right;\">\n",
              "      <th></th>\n",
              "      <th>applicant_id</th>\n",
              "      <th>Primary_applicant_age_in_years</th>\n",
              "      <th>Gender</th>\n",
              "      <th>Marital_status</th>\n",
              "      <th>Number_of_dependents</th>\n",
              "      <th>Housing</th>\n",
              "      <th>Years_at_current_residence</th>\n",
              "      <th>Employment_status</th>\n",
              "      <th>Has_been_employed_for_at_least</th>\n",
              "      <th>Has_been_employed_for_at_most</th>\n",
              "      <th>...</th>\n",
              "      <th>Purpose</th>\n",
              "      <th>Principal_loan_amount</th>\n",
              "      <th>EMI_rate_in_percentage_of_disposable_income</th>\n",
              "      <th>Property</th>\n",
              "      <th>Has_coapplicant</th>\n",
              "      <th>Has_guarantor</th>\n",
              "      <th>Other_EMI_plans</th>\n",
              "      <th>Number_of_existing_loans_at_this_bank</th>\n",
              "      <th>Loan_history</th>\n",
              "      <th>high_risk_applicant</th>\n",
              "    </tr>\n",
              "  </thead>\n",
              "  <tbody>\n",
              "    <tr>\n",
              "      <th>count</th>\n",
              "      <td>1.000000e+03</td>\n",
              "      <td>1000.000000</td>\n",
              "      <td>1000</td>\n",
              "      <td>1000</td>\n",
              "      <td>1000.000000</td>\n",
              "      <td>1000</td>\n",
              "      <td>1000.000000</td>\n",
              "      <td>1000</td>\n",
              "      <td>938</td>\n",
              "      <td>747</td>\n",
              "      <td>...</td>\n",
              "      <td>988</td>\n",
              "      <td>1.000000e+03</td>\n",
              "      <td>1000.000000</td>\n",
              "      <td>846</td>\n",
              "      <td>1000.000000</td>\n",
              "      <td>1000.000000</td>\n",
              "      <td>186</td>\n",
              "      <td>1000.000000</td>\n",
              "      <td>1000</td>\n",
              "      <td>1000.000000</td>\n",
              "    </tr>\n",
              "    <tr>\n",
              "      <th>unique</th>\n",
              "      <td>NaN</td>\n",
              "      <td>NaN</td>\n",
              "      <td>2</td>\n",
              "      <td>4</td>\n",
              "      <td>NaN</td>\n",
              "      <td>3</td>\n",
              "      <td>NaN</td>\n",
              "      <td>4</td>\n",
              "      <td>4</td>\n",
              "      <td>4</td>\n",
              "      <td>...</td>\n",
              "      <td>9</td>\n",
              "      <td>NaN</td>\n",
              "      <td>NaN</td>\n",
              "      <td>3</td>\n",
              "      <td>NaN</td>\n",
              "      <td>NaN</td>\n",
              "      <td>2</td>\n",
              "      <td>NaN</td>\n",
              "      <td>5</td>\n",
              "      <td>NaN</td>\n",
              "    </tr>\n",
              "    <tr>\n",
              "      <th>top</th>\n",
              "      <td>NaN</td>\n",
              "      <td>NaN</td>\n",
              "      <td>male</td>\n",
              "      <td>single</td>\n",
              "      <td>NaN</td>\n",
              "      <td>own</td>\n",
              "      <td>NaN</td>\n",
              "      <td>skilled employee / official</td>\n",
              "      <td>1 year</td>\n",
              "      <td>4 years</td>\n",
              "      <td>...</td>\n",
              "      <td>electronic equipment</td>\n",
              "      <td>NaN</td>\n",
              "      <td>NaN</td>\n",
              "      <td>car or other</td>\n",
              "      <td>NaN</td>\n",
              "      <td>NaN</td>\n",
              "      <td>bank</td>\n",
              "      <td>NaN</td>\n",
              "      <td>existing loans paid back duly till now</td>\n",
              "      <td>NaN</td>\n",
              "    </tr>\n",
              "    <tr>\n",
              "      <th>freq</th>\n",
              "      <td>NaN</td>\n",
              "      <td>NaN</td>\n",
              "      <td>690</td>\n",
              "      <td>548</td>\n",
              "      <td>NaN</td>\n",
              "      <td>713</td>\n",
              "      <td>NaN</td>\n",
              "      <td>630</td>\n",
              "      <td>339</td>\n",
              "      <td>339</td>\n",
              "      <td>...</td>\n",
              "      <td>280</td>\n",
              "      <td>NaN</td>\n",
              "      <td>NaN</td>\n",
              "      <td>332</td>\n",
              "      <td>NaN</td>\n",
              "      <td>NaN</td>\n",
              "      <td>139</td>\n",
              "      <td>NaN</td>\n",
              "      <td>530</td>\n",
              "      <td>NaN</td>\n",
              "    </tr>\n",
              "    <tr>\n",
              "      <th>mean</th>\n",
              "      <td>1.514763e+06</td>\n",
              "      <td>35.546000</td>\n",
              "      <td>NaN</td>\n",
              "      <td>NaN</td>\n",
              "      <td>1.155000</td>\n",
              "      <td>NaN</td>\n",
              "      <td>2.845000</td>\n",
              "      <td>NaN</td>\n",
              "      <td>NaN</td>\n",
              "      <td>NaN</td>\n",
              "      <td>...</td>\n",
              "      <td>NaN</td>\n",
              "      <td>3.271258e+06</td>\n",
              "      <td>2.973000</td>\n",
              "      <td>NaN</td>\n",
              "      <td>0.041000</td>\n",
              "      <td>0.052000</td>\n",
              "      <td>NaN</td>\n",
              "      <td>1.407000</td>\n",
              "      <td>NaN</td>\n",
              "      <td>0.300000</td>\n",
              "    </tr>\n",
              "    <tr>\n",
              "      <th>std</th>\n",
              "      <td>2.286764e+05</td>\n",
              "      <td>11.375469</td>\n",
              "      <td>NaN</td>\n",
              "      <td>NaN</td>\n",
              "      <td>0.362086</td>\n",
              "      <td>NaN</td>\n",
              "      <td>1.103718</td>\n",
              "      <td>NaN</td>\n",
              "      <td>NaN</td>\n",
              "      <td>NaN</td>\n",
              "      <td>...</td>\n",
              "      <td>NaN</td>\n",
              "      <td>2.822737e+06</td>\n",
              "      <td>1.118715</td>\n",
              "      <td>NaN</td>\n",
              "      <td>0.198389</td>\n",
              "      <td>0.222138</td>\n",
              "      <td>NaN</td>\n",
              "      <td>0.577654</td>\n",
              "      <td>NaN</td>\n",
              "      <td>0.458487</td>\n",
              "    </tr>\n",
              "    <tr>\n",
              "      <th>min</th>\n",
              "      <td>1.105364e+06</td>\n",
              "      <td>19.000000</td>\n",
              "      <td>NaN</td>\n",
              "      <td>NaN</td>\n",
              "      <td>1.000000</td>\n",
              "      <td>NaN</td>\n",
              "      <td>1.000000</td>\n",
              "      <td>NaN</td>\n",
              "      <td>NaN</td>\n",
              "      <td>NaN</td>\n",
              "      <td>...</td>\n",
              "      <td>NaN</td>\n",
              "      <td>2.500000e+05</td>\n",
              "      <td>1.000000</td>\n",
              "      <td>NaN</td>\n",
              "      <td>0.000000</td>\n",
              "      <td>0.000000</td>\n",
              "      <td>NaN</td>\n",
              "      <td>1.000000</td>\n",
              "      <td>NaN</td>\n",
              "      <td>0.000000</td>\n",
              "    </tr>\n",
              "    <tr>\n",
              "      <th>25%</th>\n",
              "      <td>1.321398e+06</td>\n",
              "      <td>27.000000</td>\n",
              "      <td>NaN</td>\n",
              "      <td>NaN</td>\n",
              "      <td>1.000000</td>\n",
              "      <td>NaN</td>\n",
              "      <td>2.000000</td>\n",
              "      <td>NaN</td>\n",
              "      <td>NaN</td>\n",
              "      <td>NaN</td>\n",
              "      <td>...</td>\n",
              "      <td>NaN</td>\n",
              "      <td>1.365500e+06</td>\n",
              "      <td>2.000000</td>\n",
              "      <td>NaN</td>\n",
              "      <td>0.000000</td>\n",
              "      <td>0.000000</td>\n",
              "      <td>NaN</td>\n",
              "      <td>1.000000</td>\n",
              "      <td>NaN</td>\n",
              "      <td>0.000000</td>\n",
              "    </tr>\n",
              "    <tr>\n",
              "      <th>50%</th>\n",
              "      <td>1.529114e+06</td>\n",
              "      <td>33.000000</td>\n",
              "      <td>NaN</td>\n",
              "      <td>NaN</td>\n",
              "      <td>1.000000</td>\n",
              "      <td>NaN</td>\n",
              "      <td>3.000000</td>\n",
              "      <td>NaN</td>\n",
              "      <td>NaN</td>\n",
              "      <td>NaN</td>\n",
              "      <td>...</td>\n",
              "      <td>NaN</td>\n",
              "      <td>2.319500e+06</td>\n",
              "      <td>3.000000</td>\n",
              "      <td>NaN</td>\n",
              "      <td>0.000000</td>\n",
              "      <td>0.000000</td>\n",
              "      <td>NaN</td>\n",
              "      <td>1.000000</td>\n",
              "      <td>NaN</td>\n",
              "      <td>0.000000</td>\n",
              "    </tr>\n",
              "    <tr>\n",
              "      <th>75%</th>\n",
              "      <td>1.707752e+06</td>\n",
              "      <td>42.000000</td>\n",
              "      <td>NaN</td>\n",
              "      <td>NaN</td>\n",
              "      <td>1.000000</td>\n",
              "      <td>NaN</td>\n",
              "      <td>4.000000</td>\n",
              "      <td>NaN</td>\n",
              "      <td>NaN</td>\n",
              "      <td>NaN</td>\n",
              "      <td>...</td>\n",
              "      <td>NaN</td>\n",
              "      <td>3.972250e+06</td>\n",
              "      <td>4.000000</td>\n",
              "      <td>NaN</td>\n",
              "      <td>0.000000</td>\n",
              "      <td>0.000000</td>\n",
              "      <td>NaN</td>\n",
              "      <td>2.000000</td>\n",
              "      <td>NaN</td>\n",
              "      <td>1.000000</td>\n",
              "    </tr>\n",
              "    <tr>\n",
              "      <th>max</th>\n",
              "      <td>1.903505e+06</td>\n",
              "      <td>75.000000</td>\n",
              "      <td>NaN</td>\n",
              "      <td>NaN</td>\n",
              "      <td>2.000000</td>\n",
              "      <td>NaN</td>\n",
              "      <td>4.000000</td>\n",
              "      <td>NaN</td>\n",
              "      <td>NaN</td>\n",
              "      <td>NaN</td>\n",
              "      <td>...</td>\n",
              "      <td>NaN</td>\n",
              "      <td>1.842400e+07</td>\n",
              "      <td>4.000000</td>\n",
              "      <td>NaN</td>\n",
              "      <td>1.000000</td>\n",
              "      <td>1.000000</td>\n",
              "      <td>NaN</td>\n",
              "      <td>4.000000</td>\n",
              "      <td>NaN</td>\n",
              "      <td>1.000000</td>\n",
              "    </tr>\n",
              "  </tbody>\n",
              "</table>\n",
              "<p>11 rows × 27 columns</p>\n",
              "</div>\n",
              "      <button class=\"colab-df-convert\" onclick=\"convertToInteractive('df-c8430c98-46fe-4b58-a0bb-44071564012b')\"\n",
              "              title=\"Convert this dataframe to an interactive table.\"\n",
              "              style=\"display:none;\">\n",
              "        \n",
              "  <svg xmlns=\"http://www.w3.org/2000/svg\" height=\"24px\"viewBox=\"0 0 24 24\"\n",
              "       width=\"24px\">\n",
              "    <path d=\"M0 0h24v24H0V0z\" fill=\"none\"/>\n",
              "    <path d=\"M18.56 5.44l.94 2.06.94-2.06 2.06-.94-2.06-.94-.94-2.06-.94 2.06-2.06.94zm-11 1L8.5 8.5l.94-2.06 2.06-.94-2.06-.94L8.5 2.5l-.94 2.06-2.06.94zm10 10l.94 2.06.94-2.06 2.06-.94-2.06-.94-.94-2.06-.94 2.06-2.06.94z\"/><path d=\"M17.41 7.96l-1.37-1.37c-.4-.4-.92-.59-1.43-.59-.52 0-1.04.2-1.43.59L10.3 9.45l-7.72 7.72c-.78.78-.78 2.05 0 2.83L4 21.41c.39.39.9.59 1.41.59.51 0 1.02-.2 1.41-.59l7.78-7.78 2.81-2.81c.8-.78.8-2.07 0-2.86zM5.41 20L4 18.59l7.72-7.72 1.47 1.35L5.41 20z\"/>\n",
              "  </svg>\n",
              "      </button>\n",
              "      \n",
              "  <style>\n",
              "    .colab-df-container {\n",
              "      display:flex;\n",
              "      flex-wrap:wrap;\n",
              "      gap: 12px;\n",
              "    }\n",
              "\n",
              "    .colab-df-convert {\n",
              "      background-color: #E8F0FE;\n",
              "      border: none;\n",
              "      border-radius: 50%;\n",
              "      cursor: pointer;\n",
              "      display: none;\n",
              "      fill: #1967D2;\n",
              "      height: 32px;\n",
              "      padding: 0 0 0 0;\n",
              "      width: 32px;\n",
              "    }\n",
              "\n",
              "    .colab-df-convert:hover {\n",
              "      background-color: #E2EBFA;\n",
              "      box-shadow: 0px 1px 2px rgba(60, 64, 67, 0.3), 0px 1px 3px 1px rgba(60, 64, 67, 0.15);\n",
              "      fill: #174EA6;\n",
              "    }\n",
              "\n",
              "    [theme=dark] .colab-df-convert {\n",
              "      background-color: #3B4455;\n",
              "      fill: #D2E3FC;\n",
              "    }\n",
              "\n",
              "    [theme=dark] .colab-df-convert:hover {\n",
              "      background-color: #434B5C;\n",
              "      box-shadow: 0px 1px 3px 1px rgba(0, 0, 0, 0.15);\n",
              "      filter: drop-shadow(0px 1px 2px rgba(0, 0, 0, 0.3));\n",
              "      fill: #FFFFFF;\n",
              "    }\n",
              "  </style>\n",
              "\n",
              "      <script>\n",
              "        const buttonEl =\n",
              "          document.querySelector('#df-c8430c98-46fe-4b58-a0bb-44071564012b button.colab-df-convert');\n",
              "        buttonEl.style.display =\n",
              "          google.colab.kernel.accessAllowed ? 'block' : 'none';\n",
              "\n",
              "        async function convertToInteractive(key) {\n",
              "          const element = document.querySelector('#df-c8430c98-46fe-4b58-a0bb-44071564012b');\n",
              "          const dataTable =\n",
              "            await google.colab.kernel.invokeFunction('convertToInteractive',\n",
              "                                                     [key], {});\n",
              "          if (!dataTable) return;\n",
              "\n",
              "          const docLinkHtml = 'Like what you see? Visit the ' +\n",
              "            '<a target=\"_blank\" href=https://colab.research.google.com/notebooks/data_table.ipynb>data table notebook</a>'\n",
              "            + ' to learn more about interactive tables.';\n",
              "          element.innerHTML = '';\n",
              "          dataTable['output_type'] = 'display_data';\n",
              "          await google.colab.output.renderOutput(dataTable, element);\n",
              "          const docLink = document.createElement('div');\n",
              "          docLink.innerHTML = docLinkHtml;\n",
              "          element.appendChild(docLink);\n",
              "        }\n",
              "      </script>\n",
              "    </div>\n",
              "  </div>\n",
              "  "
            ]
          },
          "metadata": {},
          "execution_count": 121
        }
      ],
      "source": [
        "df.describe(include='all')"
      ]
    },
    {
      "cell_type": "markdown",
      "metadata": {
        "id": "8fVDiTX9_0iN"
      },
      "source": [
        "##From the statistical part of our data, we can see:\n",
        "\n",
        "*   We can observe from the age feature that the oldest insured client is 75 and the youngest is 19. There are several outliers in terms of age distributions.\n",
        "*   We have a customers employed for a minimum of 1 year and a maximum of 4 years. \n",
        "*   Main purpose of this loan is to take a electrical equipment \n",
        "\n",
        "\n"
      ]
    },
    {
      "cell_type": "markdown",
      "metadata": {
        "id": "0eFiMqx7X2Jc"
      },
      "source": [
        "#Exploratory Data Analysis"
      ]
    },
    {
      "cell_type": "markdown",
      "metadata": {
        "id": "nmfJ0pYKgE0B"
      },
      "source": [
        "Exploratory Data Analysis (EDA) is an approach to analyze the data using visual techniques. It is used to discover trends, patterns, or to check assumptions with the help of statistical summary and graphical representations. "
      ]
    },
    {
      "cell_type": "markdown",
      "metadata": {
        "id": "urfR1T4rvs9G"
      },
      "source": [
        "###Assigning target column to a variable"
      ]
    },
    {
      "cell_type": "code",
      "execution_count": null,
      "metadata": {
        "id": "7CQGsUCXV-LL"
      },
      "outputs": [],
      "source": [
        "#Storing target column into a variable \n",
        "Dependent_variable = df['high_risk_applicant']"
      ]
    },
    {
      "cell_type": "markdown",
      "metadata": {
        "id": "JPgJrwithN7b"
      },
      "source": [
        "##Let's compare High Risk Applicants to Low Risk Applicants."
      ]
    },
    {
      "cell_type": "code",
      "execution_count": null,
      "metadata": {
        "colab": {
          "base_uri": "https://localhost:8080/",
          "height": 356
        },
        "id": "xTLCsshWv4Pq",
        "outputId": "1fc8ef74-f8db-438f-f4e1-3672de7a7ba3"
      },
      "outputs": [
        {
          "output_type": "stream",
          "name": "stderr",
          "text": [
            "/usr/local/lib/python3.7/dist-packages/seaborn/_decorators.py:43: FutureWarning: Pass the following variable as a keyword arg: x. From version 0.12, the only valid positional argument will be `data`, and passing other arguments without an explicit keyword will result in an error or misinterpretation.\n",
            "  FutureWarning\n"
          ]
        },
        {
          "output_type": "display_data",
          "data": {
            "text/plain": [
              "<Figure size 432x288 with 1 Axes>"
            ],
            "image/png": "[encoded data removed]"
          },
          "metadata": {
            "needs_background": "light"
          }
        }
      ],
      "source": [
        "#Plot the count of the target variable\n",
        "sns.countplot(df['high_risk_applicant'],data=df)\n",
        "plt.title('High risk applicants vs Low risk applicants', fontsize=20) #title for the countplot\n",
        "plt.show()"
      ]
    },
    {
      "cell_type": "markdown",
      "metadata": {
        "id": "ethisGlEwrPQ"
      },
      "source": [
        "Observation -\n",
        "\n",
        "As we can see, our data is imbalanced, thus we must balance it. But first, let's try some techniques and get some important data."
      ]
    },
    {
      "cell_type": "code",
      "execution_count": null,
      "metadata": {
        "colab": {
          "base_uri": "https://localhost:8080/"
        },
        "id": "CSfygqjCwwow",
        "outputId": "dfc2ae54-7f67-4a65-de79-f3b482222102"
      },
      "outputs": [
        {
          "output_type": "execute_result",
          "data": {
            "text/plain": [
              "0    0.7\n",
              "1    0.3\n",
              "Name: high_risk_applicant, dtype: float64"
            ]
          },
          "metadata": {},
          "execution_count": 124
        }
      ],
      "source": [
        "df.high_risk_applicant.value_counts()/df.shape[0]"
      ]
    },
    {
      "cell_type": "markdown",
      "metadata": {
        "id": "ZtiD_emtw87I"
      },
      "source": [
        "Observation -\n",
        "\n",
        "The dependant variable has binary values of 0 and 1. We can infer from the plot above that we have more low risk applicants. \n",
        "30% percent of the data are 1's and 70% percent of the data are 0s.\n",
        "This data must be handled using the imbalance technique since the output feature is unbalanced."
      ]
    },
    {
      "cell_type": "markdown",
      "metadata": {
        "id": "Bwh8VG_3LqfK"
      },
      "source": [
        "##Analyzing responses based on gender"
      ]
    },
    {
      "cell_type": "code",
      "execution_count": null,
      "metadata": {
        "colab": {
          "base_uri": "https://localhost:8080/",
          "height": 444
        },
        "id": "CH2HQBRaJLoM",
        "outputId": "b92e27b8-ab4d-46a8-83e3-3b8c1012b6c7"
      },
      "outputs": [
        {
          "output_type": "stream",
          "name": "stderr",
          "text": [
            "/usr/local/lib/python3.7/dist-packages/seaborn/_decorators.py:43: FutureWarning: Pass the following variable as a keyword arg: x. From version 0.12, the only valid positional argument will be `data`, and passing other arguments without an explicit keyword will result in an error or misinterpretation.\n",
            "  FutureWarning\n",
            "/usr/local/lib/python3.7/dist-packages/seaborn/_decorators.py:43: FutureWarning: Pass the following variable as a keyword arg: x. From version 0.12, the only valid positional argument will be `data`, and passing other arguments without an explicit keyword will result in an error or misinterpretation.\n",
            "  FutureWarning\n"
          ]
        },
        {
          "output_type": "display_data",
          "data": {
            "text/plain": [
              "<Figure size 864x360 with 2 Axes>"
            ],
            "image/png": "[encoded data removed]"
          },
          "metadata": {
            "needs_background": "light"
          }
        }
      ],
      "source": [
        "#Analyzing responses based on gender\n",
        "plt.figure(figsize = (12,5))\n",
        "plt.subplot(1,2,1)\n",
        "sns.countplot(df['Gender'])\n",
        "plt.title('Count of male and Female')\n",
        "plt.subplot(1,2,2)\n",
        "sns.countplot(df['Gender'], hue= df['high_risk_applicant'])\n",
        "plt.title('Response in Male and Female category', fontsize=20)\n",
        "plt.show()"
      ]
    },
    {
      "cell_type": "markdown",
      "metadata": {
        "id": "bc_W8bBoJaWo"
      },
      "source": [
        "Observation - \n",
        "\n",
        "*   There are more male applicants.\n",
        "*   High-risk applicants are majority male."
      ]
    },
    {
      "cell_type": "markdown",
      "metadata": {
        "id": "S8QdJLeiLaFJ"
      },
      "source": [
        "##Analyzing the age of the most high risk applicants"
      ]
    },
    {
      "cell_type": "code",
      "execution_count": null,
      "metadata": {
        "colab": {
          "base_uri": "https://localhost:8080/",
          "height": 644
        },
        "id": "zoOXq-64LYxt",
        "outputId": "b946ffa2-deaf-423c-fe2f-384a368a2de8"
      },
      "outputs": [
        {
          "output_type": "execute_result",
          "data": {
            "text/plain": [
              "Text(0.5, 1.0, 'High risk applicant in terms of Age')"
            ]
          },
          "metadata": {},
          "execution_count": 126
        },
        {
          "output_type": "display_data",
          "data": {
            "text/plain": [
              "<Figure size 1440x720 with 1 Axes>"
            ],
            "image/png": "[encoded data removed]"
          },
          "metadata": {
            "needs_background": "light"
          }
        }
      ],
      "source": [
        "plt.figure(figsize = (20,10))\n",
        "sns.countplot(x='Primary_applicant_age_in_years', hue='high_risk_applicant', data=df)\n",
        "plt.title('High risk applicant in terms of Age', fontsize=20)"
      ]
    },
    {
      "cell_type": "markdown",
      "metadata": {
        "id": "brrW2Zi9MN8B"
      },
      "source": [
        "Lets see in box plot\n"
      ]
    },
    {
      "cell_type": "code",
      "execution_count": null,
      "metadata": {
        "colab": {
          "base_uri": "https://localhost:8080/",
          "height": 352
        },
        "id": "ZCEMo4_eMUUx",
        "outputId": "018688bd-7d7e-40e8-ccd6-ccc7c4cfff8b"
      },
      "outputs": [
        {
          "output_type": "stream",
          "name": "stderr",
          "text": [
            "/usr/local/lib/python3.7/dist-packages/seaborn/_decorators.py:43: FutureWarning: Pass the following variable as a keyword arg: x. From version 0.12, the only valid positional argument will be `data`, and passing other arguments without an explicit keyword will result in an error or misinterpretation.\n",
            "  FutureWarning\n"
          ]
        },
        {
          "output_type": "execute_result",
          "data": {
            "text/plain": [
              "<matplotlib.axes._subplots.AxesSubplot at 0x7f1ef9607d10>"
            ]
          },
          "metadata": {},
          "execution_count": 127
        },
        {
          "output_type": "display_data",
          "data": {
            "text/plain": [
              "<Figure size 432x288 with 1 Axes>"
            ],
            "image/png": "[encoded data removed]"
          },
          "metadata": {
            "needs_background": "light"
          }
        }
      ],
      "source": [
        "sns.boxplot(df['Primary_applicant_age_in_years'])"
      ]
    },
    {
      "cell_type": "markdown",
      "metadata": {
        "id": "brzQlo8pMaJn"
      },
      "source": [
        "Observation - \n",
        "\n",
        "*   We can observe that applicants between the ages of 25 and 40 are more likely to be high risk, indicating that young individuals are smart enough to cheat.\n",
        "*   The boxplot shows that there are outliers in the data."
      ]
    },
    {
      "cell_type": "markdown",
      "metadata": {
        "id": "sPrs6002NqNT"
      },
      "source": [
        "##Let's look at the Employment status column to see what type of individuals are high risk applicants"
      ]
    },
    {
      "cell_type": "code",
      "execution_count": null,
      "metadata": {
        "colab": {
          "base_uri": "https://localhost:8080/",
          "height": 699
        },
        "id": "MFLTJVZjNp17",
        "outputId": "50a99dbb-4410-4a83-e56f-27a3c6685dc9"
      },
      "outputs": [
        {
          "output_type": "stream",
          "name": "stderr",
          "text": [
            "/usr/local/lib/python3.7/dist-packages/seaborn/_decorators.py:43: FutureWarning: Pass the following variable as a keyword arg: x. From version 0.12, the only valid positional argument will be `data`, and passing other arguments without an explicit keyword will result in an error or misinterpretation.\n",
            "  FutureWarning\n"
          ]
        },
        {
          "output_type": "execute_result",
          "data": {
            "text/plain": [
              "Text(0.5, 1.0, 'High risk appplicant in terms of Employment status')"
            ]
          },
          "metadata": {},
          "execution_count": 128
        },
        {
          "output_type": "display_data",
          "data": {
            "text/plain": [
              "<Figure size 1440x720 with 1 Axes>"
            ],
            "image/png": "[encoded data removed]"
          },
          "metadata": {
            "needs_background": "light"
          }
        }
      ],
      "source": [
        "plt.figure(figsize = (20,10))\n",
        "sns.countplot(df['Employment_status'], hue=df['high_risk_applicant'])\n",
        "plt.title('High risk appplicant in terms of Employment status', fontsize = 20)"
      ]
    },
    {
      "cell_type": "markdown",
      "metadata": {
        "id": "oncBpAT6O8N8"
      },
      "source": [
        "Observation -\n",
        "\n",
        "We observe that the majority of High risk applicants are skilled workers."
      ]
    },
    {
      "cell_type": "markdown",
      "metadata": {
        "id": "sjO9COQIQq02"
      },
      "source": [
        "##Years of Experience Vs High risk Applicant"
      ]
    },
    {
      "cell_type": "code",
      "execution_count": null,
      "metadata": {
        "colab": {
          "base_uri": "https://localhost:8080/",
          "height": 699
        },
        "id": "k3GgcTAeP3xj",
        "outputId": "1cfe24b2-9ca5-4653-e786-d028deaeebaa"
      },
      "outputs": [
        {
          "output_type": "stream",
          "name": "stderr",
          "text": [
            "/usr/local/lib/python3.7/dist-packages/seaborn/_decorators.py:43: FutureWarning: Pass the following variable as a keyword arg: x. From version 0.12, the only valid positional argument will be `data`, and passing other arguments without an explicit keyword will result in an error or misinterpretation.\n",
            "  FutureWarning\n"
          ]
        },
        {
          "output_type": "execute_result",
          "data": {
            "text/plain": [
              "Text(0.5, 1.0, 'High risk appplicant in terms of employment')"
            ]
          },
          "metadata": {},
          "execution_count": 129
        },
        {
          "output_type": "display_data",
          "data": {
            "text/plain": [
              "<Figure size 1080x720 with 1 Axes>"
            ],
            "image/png": "[encoded data removed]"
          },
          "metadata": {
            "needs_background": "light"
          }
        }
      ],
      "source": [
        "plt.figure(figsize = (15,10))\n",
        "sns.countplot(df['Has_been_employed_for_at_most'], hue=df['high_risk_applicant'])\n",
        "plt.title('High risk appplicant in terms of employment', fontsize = 20)"
      ]
    },
    {
      "cell_type": "markdown",
      "metadata": {
        "id": "WUDPsfB9QL5g"
      },
      "source": [
        "Observation -\n",
        "\n",
        "We can observe that those with 1 - 4 years of experience can be considered high risk applicants."
      ]
    },
    {
      "cell_type": "markdown",
      "metadata": {
        "id": "0ZIMO3S2RtLv"
      },
      "source": [
        "##Account Balance Vs High Risk Applicants"
      ]
    },
    {
      "cell_type": "code",
      "execution_count": null,
      "metadata": {
        "colab": {
          "base_uri": "https://localhost:8080/",
          "height": 591
        },
        "id": "rfW4c3qJP1BK",
        "outputId": "f4c34d6c-1b5a-4b95-a26d-bdbb4d81e1be"
      },
      "outputs": [
        {
          "output_type": "stream",
          "name": "stderr",
          "text": [
            "/usr/local/lib/python3.7/dist-packages/seaborn/_decorators.py:43: FutureWarning: Pass the following variable as a keyword arg: x. From version 0.12, the only valid positional argument will be `data`, and passing other arguments without an explicit keyword will result in an error or misinterpretation.\n",
            "  FutureWarning\n"
          ]
        },
        {
          "output_type": "execute_result",
          "data": {
            "text/plain": [
              "Text(0.5, 1.0, 'High risk appplicant in terms of Bank Balance')"
            ]
          },
          "metadata": {},
          "execution_count": 130
        },
        {
          "output_type": "display_data",
          "data": {
            "text/plain": [
              "<Figure size 720x576 with 1 Axes>"
            ],
            "image/png": "[encoded data removed]"
          },
          "metadata": {
            "needs_background": "light"
          }
        }
      ],
      "source": [
        "plt.figure(figsize = (10,8))\n",
        "sns.countplot(df['Savings_account_balance'], hue=df['high_risk_applicant'])\n",
        "plt.title('High risk appplicant in terms of Bank Balance', fontsize = 20)"
      ]
    },
    {
      "cell_type": "markdown",
      "metadata": {
        "id": "I103H8ClRb3y"
      },
      "source": [
        "Observation -\n",
        "\n",
        "Individuals with low balance are more likely to be high risk applicants."
      ]
    },
    {
      "cell_type": "markdown",
      "metadata": {
        "id": "MZCrg4Q-e1Pi"
      },
      "source": [
        "##Analysing high risk appplicant in terms of Number of existing loans at this bank"
      ]
    },
    {
      "cell_type": "code",
      "execution_count": null,
      "metadata": {
        "colab": {
          "base_uri": "https://localhost:8080/",
          "height": 591
        },
        "id": "9LPgqvTdST-5",
        "outputId": "7bb8f1e0-ee88-473b-bcd1-8c6d411a9a61"
      },
      "outputs": [
        {
          "output_type": "stream",
          "name": "stderr",
          "text": [
            "/usr/local/lib/python3.7/dist-packages/seaborn/_decorators.py:43: FutureWarning: Pass the following variable as a keyword arg: x. From version 0.12, the only valid positional argument will be `data`, and passing other arguments without an explicit keyword will result in an error or misinterpretation.\n",
            "  FutureWarning\n"
          ]
        },
        {
          "output_type": "execute_result",
          "data": {
            "text/plain": [
              "Text(0.5, 1.0, 'High risk appplicant in terms of Number of existing loans at this bank ')"
            ]
          },
          "metadata": {},
          "execution_count": 131
        },
        {
          "output_type": "display_data",
          "data": {
            "text/plain": [
              "<Figure size 720x576 with 1 Axes>"
            ],
            "image/png": "[encoded data removed]"
          },
          "metadata": {
            "needs_background": "light"
          }
        }
      ],
      "source": [
        "plt.figure(figsize = (10,8))\n",
        "sns.countplot(df['Number_of_existing_loans_at_this_bank'], hue=df['high_risk_applicant'])\n",
        "plt.title('High risk appplicant in terms of Number of existing loans at this bank ', fontsize = 20)"
      ]
    },
    {
      "cell_type": "markdown",
      "source": [
        "Observation -\n",
        "\n",
        "Loans with less than two appear to be high risk applicants."
      ],
      "metadata": {
        "id": "_yZ9hOjr5hIh"
      }
    },
    {
      "cell_type": "markdown",
      "metadata": {
        "id": "cfSf__EweslM"
      },
      "source": [
        "##Analysing high risk applicant in terms of Months loan taken"
      ]
    },
    {
      "cell_type": "code",
      "execution_count": null,
      "metadata": {
        "colab": {
          "base_uri": "https://localhost:8080/",
          "height": 591
        },
        "id": "TR_Wa59OVXgr",
        "outputId": "1c1112d1-6e71-4eb2-e8a0-a0f4b634c4d6"
      },
      "outputs": [
        {
          "output_type": "stream",
          "name": "stderr",
          "text": [
            "/usr/local/lib/python3.7/dist-packages/seaborn/_decorators.py:43: FutureWarning: Pass the following variable as a keyword arg: x. From version 0.12, the only valid positional argument will be `data`, and passing other arguments without an explicit keyword will result in an error or misinterpretation.\n",
            "  FutureWarning\n"
          ]
        },
        {
          "output_type": "execute_result",
          "data": {
            "text/plain": [
              "Text(0.5, 1.0, 'High risk applicant in terms of Loan History')"
            ]
          },
          "metadata": {},
          "execution_count": 132
        },
        {
          "output_type": "display_data",
          "data": {
            "text/plain": [
              "<Figure size 1296x576 with 1 Axes>"
            ],
            "image/png": "[encoded data removed]"
          },
          "metadata": {
            "needs_background": "light"
          }
        }
      ],
      "source": [
        "plt.figure(figsize = (18,8))\n",
        "sns.countplot(df['Loan_history'], hue=df['high_risk_applicant'])\n",
        "plt.title('High risk applicant in terms of Loan History', fontsize = 20)"
      ]
    },
    {
      "cell_type": "markdown",
      "metadata": {
        "id": "7lz9PnPAV2W5"
      },
      "source": [
        "Observation - \n",
        "\n",
        "We can see that individuals who pay accurately are high risk applicants, implying that they will pay correctly for a few days and then cheat."
      ]
    },
    {
      "cell_type": "markdown",
      "metadata": {
        "id": "mLdf4h7vb2id"
      },
      "source": [
        "##Analysing High risk appplicant in terms of Months loan taken"
      ]
    },
    {
      "cell_type": "code",
      "execution_count": null,
      "metadata": {
        "colab": {
          "base_uri": "https://localhost:8080/",
          "height": 699
        },
        "id": "xTN2TFcob4uQ",
        "outputId": "c36e07d7-a071-495c-e1a7-b2866e70594d"
      },
      "outputs": [
        {
          "output_type": "stream",
          "name": "stderr",
          "text": [
            "/usr/local/lib/python3.7/dist-packages/seaborn/_decorators.py:43: FutureWarning: Pass the following variable as a keyword arg: x. From version 0.12, the only valid positional argument will be `data`, and passing other arguments without an explicit keyword will result in an error or misinterpretation.\n",
            "  FutureWarning\n"
          ]
        },
        {
          "output_type": "execute_result",
          "data": {
            "text/plain": [
              "Text(0.5, 1.0, 'High risk appplicant in terms of Months loan taken')"
            ]
          },
          "metadata": {},
          "execution_count": 133
        },
        {
          "output_type": "display_data",
          "data": {
            "text/plain": [
              "<Figure size 1440x720 with 1 Axes>"
            ],
            "image/png": "[encoded data removed]"
          },
          "metadata": {
            "needs_background": "light"
          }
        }
      ],
      "source": [
        "plt.figure(figsize = (20,10))\n",
        "sns.countplot(df['Months_loan_taken_for'], hue=df['high_risk_applicant'])\n",
        "plt.title('High risk appplicant in terms of Months loan taken', fontsize = 20)\n",
        "\n"
      ]
    },
    {
      "cell_type": "markdown",
      "metadata": {
        "id": "UEdRTZK7cv2n"
      },
      "source": [
        "Observation -\n",
        "\n",
        "Applicants who are approved for 12 months, 24 months, or 36 months are considered high risk."
      ]
    },
    {
      "cell_type": "markdown",
      "metadata": {
        "id": "OWyPJC_nejc1"
      },
      "source": [
        "##High risk appplicant in terms of EMI rate in percentage of disposable income"
      ]
    },
    {
      "cell_type": "code",
      "execution_count": null,
      "metadata": {
        "colab": {
          "base_uri": "https://localhost:8080/",
          "height": 591
        },
        "id": "dzszJF-ddISP",
        "outputId": "353ee2a9-2e69-4199-b82c-73819b2bf2d7"
      },
      "outputs": [
        {
          "output_type": "stream",
          "name": "stderr",
          "text": [
            "/usr/local/lib/python3.7/dist-packages/seaborn/_decorators.py:43: FutureWarning: Pass the following variable as a keyword arg: x. From version 0.12, the only valid positional argument will be `data`, and passing other arguments without an explicit keyword will result in an error or misinterpretation.\n",
            "  FutureWarning\n"
          ]
        },
        {
          "output_type": "execute_result",
          "data": {
            "text/plain": [
              "Text(0.5, 1.0, 'High risk appplicant in terms of EMI rate in percentage of disposable income')"
            ]
          },
          "metadata": {},
          "execution_count": 134
        },
        {
          "output_type": "display_data",
          "data": {
            "text/plain": [
              "<Figure size 720x576 with 1 Axes>"
            ],
            "image/png": "[encoded data removed]"
          },
          "metadata": {
            "needs_background": "light"
          }
        }
      ],
      "source": [
        "plt.figure(figsize = (10,8))\n",
        "sns.countplot(df['EMI_rate_in_percentage_of_disposable_income'], hue=df['high_risk_applicant'])\n",
        "plt.title('High risk appplicant in terms of EMI rate in percentage of disposable income', fontsize = 20)\n"
      ]
    },
    {
      "cell_type": "markdown",
      "metadata": {
        "id": "UtQnph0RdYA-"
      },
      "source": [
        "Observation -\n",
        "\n",
        "Applicants with a high EMI rate of percentage are more likely to be labelled high risk."
      ]
    },
    {
      "cell_type": "markdown",
      "metadata": {
        "id": "6LZ17Ti7duJI"
      },
      "source": [
        "##Can we label applicants as high risk in terms of other EMI plans?"
      ]
    },
    {
      "cell_type": "code",
      "execution_count": null,
      "metadata": {
        "colab": {
          "base_uri": "https://localhost:8080/",
          "height": 591
        },
        "id": "CzzaG-qidvKY",
        "outputId": "755b6d90-d7bc-4d01-ae1f-0cafb92b17e0"
      },
      "outputs": [
        {
          "output_type": "stream",
          "name": "stderr",
          "text": [
            "/usr/local/lib/python3.7/dist-packages/seaborn/_decorators.py:43: FutureWarning: Pass the following variable as a keyword arg: x. From version 0.12, the only valid positional argument will be `data`, and passing other arguments without an explicit keyword will result in an error or misinterpretation.\n",
            "  FutureWarning\n"
          ]
        },
        {
          "output_type": "execute_result",
          "data": {
            "text/plain": [
              "Text(0.5, 1.0, 'High risk appplicant in terms of Other EMI plans')"
            ]
          },
          "metadata": {},
          "execution_count": 135
        },
        {
          "output_type": "display_data",
          "data": {
            "text/plain": [
              "<Figure size 720x576 with 1 Axes>"
            ],
            "image/png": "[encoded data removed]"
          },
          "metadata": {
            "needs_background": "light"
          }
        }
      ],
      "source": [
        "plt.figure(figsize = (10,8))\n",
        "sns.countplot(df['Other_EMI_plans'], hue=df['high_risk_applicant'])\n",
        "plt.title('High risk appplicant in terms of Other EMI plans', fontsize = 20)"
      ]
    },
    {
      "cell_type": "markdown",
      "source": [
        "Observation -\n",
        "\n",
        "Banks have more high-risk applicants than stores."
      ],
      "metadata": {
        "id": "kPvFyjKN6MLz"
      }
    },
    {
      "cell_type": "markdown",
      "source": [
        "Key points:\n",
        "\n",
        "\n",
        "*   There are more male applicants. Majority of high risk applicants are also male candidates.\n",
        "* We observed that applicants between the ages of 25 and 40 are more likely to be high risk, indicating that young individuals are smart enough to cheat. data.\n",
        "*   Majority of High risk applicants are skilled workers with 1 - 4 years of experience.\n",
        "*   Individuals with low balance are more likely to be high risk applicants.\n",
        "*   Loans with less than two appear to be high risk applicants.\n",
        "*   We can see that individuals who pay accurately are high risk applicants, implying that they will pay correctly for a few days and then cheat.\n",
        "*   Applicants who are approved for 12 months, 24 months, or 36 months are considered high risk.\n",
        "*   Applicants with a high EMI rate of percentage are more likely to be labelled high risk.\n",
        "*   Banks have more high-risk applicants than stores.\n",
        "\n",
        "\n",
        "\n"
      ],
      "metadata": {
        "id": "gdX-XG8eEiRf"
      }
    }
  ],
  "metadata": {
    "colab": {
      "collapsed_sections": [],
      "provenance": [],
      "authorship_tag": "ABX9TyN/TgE5f3zdzp+FrgwwV/Gy",
      "include_colab_link": true
    },
    "kernelspec": {
      "display_name": "Python 3",
      "name": "python3"
    },
    "language_info": {
      "name": "python"
    }
  },
  "nbformat": 4,
  "nbformat_minor": 0
}